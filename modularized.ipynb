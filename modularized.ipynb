{
 "cells": [
  {
   "cell_type": "markdown",
   "metadata": {},
   "source": [
    "This is a document I use to separate out functions of the main script in order to troubleshoot or quickly bypass some steps. I often use this to avoid spamming chat or API requests when I want to test changes in a script without using quota credits or some other resource."
   ]
  },
  {
   "cell_type": "code",
   "execution_count": 1,
   "metadata": {},
   "outputs": [],
   "source": [
    "from funcs import *\n",
    "import requests,time\n",
    "from pprint import pprint\n",
    "showbot_channel,token = 'Frogpants','Nhrj6amcz4AqiSP6AVv5YhhQX8OhJ6wO'"
   ]
  },
  {
   "cell_type": "code",
   "execution_count": 2,
   "metadata": {},
   "outputs": [
    {
     "name": "stdout",
     "output_type": "stream",
     "text": [
      "Live stream detected.\n",
      "Live stream id: QvKqwCpdqmU\n"
     ]
    }
   ],
   "source": [
    "streamid = find_stream_id('@ScottJohnson')\n",
    "if streamid:\n",
    "    print(f'Live stream detected.\\nLive stream id: {streamid}')\n",
    "else:\n",
    "    print('No live stream found.')"
   ]
  },
  {
   "cell_type": "code",
   "execution_count": 2,
   "metadata": {},
   "outputs": [],
   "source": [
    "streamid = 'QvKqwCpdqmU'"
   ]
  },
  {
   "cell_type": "markdown",
   "metadata": {},
   "source": [
    "For testing"
   ]
  },
  {
   "cell_type": "code",
   "execution_count": 3,
   "metadata": {},
   "outputs": [
    {
     "ename": "KeyError",
     "evalue": "'activeLiveChatId'",
     "output_type": "error",
     "traceback": [
      "\u001b[1;31m---------------------------------------------------------------------------\u001b[0m",
      "\u001b[1;31mKeyError\u001b[0m                                  Traceback (most recent call last)",
      "Cell \u001b[1;32mIn[3], line 1\u001b[0m\n\u001b[1;32m----> 1\u001b[0m authors,messages \u001b[38;5;241m=\u001b[39m parse_chat(read_chat(\u001b[43mfind_chat_id\u001b[49m\u001b[43m(\u001b[49m\u001b[43mstreamid\u001b[49m\u001b[43m)\u001b[49m))\n\u001b[0;32m      2\u001b[0m \u001b[38;5;28;01mfor\u001b[39;00m author,message \u001b[38;5;129;01min\u001b[39;00m \u001b[38;5;28mzip\u001b[39m(authors,messages):\n\u001b[0;32m      3\u001b[0m     \u001b[38;5;28mprint\u001b[39m(\u001b[38;5;124mf\u001b[39m\u001b[38;5;124m'\u001b[39m\u001b[38;5;132;01m{\u001b[39;00mauthor\u001b[38;5;132;01m}\u001b[39;00m\u001b[38;5;124m: \u001b[39m\u001b[38;5;132;01m{\u001b[39;00mmessage\u001b[38;5;132;01m}\u001b[39;00m\u001b[38;5;124m'\u001b[39m)\n",
      "File \u001b[1;32mc:\\Users\\RyuRa\\OneDrive\\Github\\Frogpants_Showbot\\funcs.py:163\u001b[0m, in \u001b[0;36mfind_chat_id\u001b[1;34m(livestreamid, api_service_name, api_version, client_secrets_file, credentials, scopes, module)\u001b[0m\n\u001b[0;32m    161\u001b[0m response \u001b[38;5;241m=\u001b[39m request\u001b[38;5;241m.\u001b[39mexecute()\n\u001b[0;32m    162\u001b[0m \u001b[38;5;28;01mtry\u001b[39;00m:\n\u001b[1;32m--> 163\u001b[0m     livechatid \u001b[38;5;241m=\u001b[39m \u001b[43mresponse\u001b[49m\u001b[43m[\u001b[49m\u001b[38;5;124;43m'\u001b[39;49m\u001b[38;5;124;43mitems\u001b[39;49m\u001b[38;5;124;43m'\u001b[39;49m\u001b[43m]\u001b[49m\u001b[43m[\u001b[49m\u001b[38;5;241;43m0\u001b[39;49m\u001b[43m]\u001b[49m\u001b[43m[\u001b[49m\u001b[38;5;124;43m'\u001b[39;49m\u001b[38;5;124;43mliveStreamingDetails\u001b[39;49m\u001b[38;5;124;43m'\u001b[39;49m\u001b[43m]\u001b[49m\u001b[43m[\u001b[49m\u001b[38;5;124;43m'\u001b[39;49m\u001b[38;5;124;43mactiveLiveChatId\u001b[39;49m\u001b[38;5;124;43m'\u001b[39;49m\u001b[43m]\u001b[49m\n\u001b[0;32m    164\u001b[0m     \u001b[38;5;28;01mreturn\u001b[39;00m livechatid\n\u001b[0;32m    165\u001b[0m \u001b[38;5;28;01mexcept\u001b[39;00m \u001b[38;5;167;01mIndexError\u001b[39;00m:\n",
      "\u001b[1;31mKeyError\u001b[0m: 'activeLiveChatId'"
     ]
    }
   ],
   "source": [
    "authors,messages = parse_chat(read_chat(find_chat_id(streamid)))\n",
    "for author,message in zip(authors,messages):\n",
    "    print(f'{author}: {message}')"
   ]
  },
  {
   "cell_type": "markdown",
   "metadata": {},
   "source": [
    "For titles"
   ]
  },
  {
   "cell_type": "code",
   "execution_count": null,
   "metadata": {},
   "outputs": [],
   "source": [
    "author_index,titles = title_search(read_chat(find_chat_id(streamid)))\n",
    "# for author,title in zip(authors,titles):\n",
    "#     print(f'{author}: {title}')"
   ]
  },
  {
   "cell_type": "code",
   "execution_count": 18,
   "metadata": {},
   "outputs": [],
   "source": [
    "authors_html,titles_html = [html_ify(auth) for auth in author_index],[html_ify(title) for title in titles]\n",
    "for author_html,title_html in zip(authors_html,titles_html):\n",
    "    print(f'{author_html}: {title_html}')\n",
    "    "
   ]
  },
  {
   "cell_type": "code",
   "execution_count": 4,
   "metadata": {},
   "outputs": [
    {
     "ename": "KeyError",
     "evalue": "'activeLiveChatId'",
     "output_type": "error",
     "traceback": [
      "\u001b[1;31m---------------------------------------------------------------------------\u001b[0m",
      "\u001b[1;31mKeyError\u001b[0m                                  Traceback (most recent call last)",
      "Cell \u001b[1;32mIn[4], line 1\u001b[0m\n\u001b[1;32m----> 1\u001b[0m livechatid \u001b[38;5;241m=\u001b[39m \u001b[43mfind_chat_id\u001b[49m\u001b[43m(\u001b[49m\u001b[43mstreamid\u001b[49m\u001b[43m)\u001b[49m\n",
      "File \u001b[1;32mc:\\Users\\RyuRa\\OneDrive\\Github\\Frogpants_Showbot\\funcs.py:163\u001b[0m, in \u001b[0;36mfind_chat_id\u001b[1;34m(livestreamid, api_service_name, api_version, client_secrets_file, credentials, scopes, module)\u001b[0m\n\u001b[0;32m    161\u001b[0m response \u001b[38;5;241m=\u001b[39m request\u001b[38;5;241m.\u001b[39mexecute()\n\u001b[0;32m    162\u001b[0m \u001b[38;5;28;01mtry\u001b[39;00m:\n\u001b[1;32m--> 163\u001b[0m     livechatid \u001b[38;5;241m=\u001b[39m \u001b[43mresponse\u001b[49m\u001b[43m[\u001b[49m\u001b[38;5;124;43m'\u001b[39;49m\u001b[38;5;124;43mitems\u001b[39;49m\u001b[38;5;124;43m'\u001b[39;49m\u001b[43m]\u001b[49m\u001b[43m[\u001b[49m\u001b[38;5;241;43m0\u001b[39;49m\u001b[43m]\u001b[49m\u001b[43m[\u001b[49m\u001b[38;5;124;43m'\u001b[39;49m\u001b[38;5;124;43mliveStreamingDetails\u001b[39;49m\u001b[38;5;124;43m'\u001b[39;49m\u001b[43m]\u001b[49m\u001b[43m[\u001b[49m\u001b[38;5;124;43m'\u001b[39;49m\u001b[38;5;124;43mactiveLiveChatId\u001b[39;49m\u001b[38;5;124;43m'\u001b[39;49m\u001b[43m]\u001b[49m\n\u001b[0;32m    164\u001b[0m     \u001b[38;5;28;01mreturn\u001b[39;00m livechatid\n\u001b[0;32m    165\u001b[0m \u001b[38;5;28;01mexcept\u001b[39;00m \u001b[38;5;167;01mIndexError\u001b[39;00m:\n",
      "\u001b[1;31mKeyError\u001b[0m: 'activeLiveChatId'"
     ]
    }
   ],
   "source": [
    "livechatid = find_chat_id(streamid)"
   ]
  },
  {
   "cell_type": "code",
   "execution_count": 4,
   "metadata": {},
   "outputs": [
    {
     "data": {
      "text/plain": [
       "'Cg0KC0tqdjV5bWsxTlpBKicKGFVDSUVJUnotS3BZb0VQbnJOUXV5SHdKdxILS2p2NXltazFOWkE'"
      ]
     },
     "execution_count": 4,
     "metadata": {},
     "output_type": "execute_result"
    }
   ],
   "source": [
    "livechatid\n"
   ]
  },
  {
   "cell_type": "code",
   "execution_count": 12,
   "metadata": {},
   "outputs": [],
   "source": [
    "livechatid = 'Cg0KC3Rhb0lYcU9Udi1jKicKGFVDSUVJUnotS3BZb0VQbnJOUXV5SHdKdxILdGFvSVhxT1R2LWM'"
   ]
  },
  {
   "cell_type": "code",
   "execution_count": 6,
   "metadata": {},
   "outputs": [
    {
     "data": {
      "text/plain": [
       "'../client_secrets_file.json'"
      ]
     },
     "execution_count": 6,
     "metadata": {},
     "output_type": "execute_result"
    }
   ],
   "source": [
    "client_secrets_file"
   ]
  },
  {
   "cell_type": "code",
   "execution_count": 9,
   "metadata": {},
   "outputs": [
    {
     "name": "stdout",
     "output_type": "stream",
     "text": [
      "Titles scraped for Showbot.tv channel: Frogpants \n"
     ]
    }
   ],
   "source": [
    "author_index,submitted_titles = build_submission_history(showbot_channel)"
   ]
  },
  {
   "cell_type": "code",
   "execution_count": 10,
   "metadata": {},
   "outputs": [
    {
     "ename": "NameError",
     "evalue": "name 'authors' is not defined",
     "output_type": "error",
     "traceback": [
      "\u001b[1;31m---------------------------------------------------------------------------\u001b[0m",
      "\u001b[1;31mNameError\u001b[0m                                 Traceback (most recent call last)",
      "Cell \u001b[1;32mIn[10], line 1\u001b[0m\n\u001b[1;32m----> 1\u001b[0m \u001b[38;5;28;01mfor\u001b[39;00m author,title \u001b[38;5;129;01min\u001b[39;00m \u001b[38;5;28mzip\u001b[39m(\u001b[43mauthors\u001b[49m,titles):\n\u001b[0;32m      2\u001b[0m     \u001b[38;5;28mprint\u001b[39m(\u001b[38;5;124mf\u001b[39m\u001b[38;5;124m'\u001b[39m\u001b[38;5;132;01m{\u001b[39;00mauthor\u001b[38;5;132;01m}\u001b[39;00m\u001b[38;5;124m: \u001b[39m\u001b[38;5;132;01m{\u001b[39;00mtitle\u001b[38;5;132;01m}\u001b[39;00m\u001b[38;5;124m'\u001b[39m)\n",
      "\u001b[1;31mNameError\u001b[0m: name 'authors' is not defined"
     ]
    }
   ],
   "source": [
    "for author,title in zip(authors,titles):\n",
    "    print(f'{author}: {title}')"
   ]
  },
  {
   "cell_type": "code",
   "execution_count": 5,
   "metadata": {},
   "outputs": [],
   "source": [
    "credentials = Credentials.from_authorized_user_file(\"../working_submit_token_Talia_do_not_delete.json\", scopes)\n",
    "youtube = build_yt_obj(credentials,api_service_name, api_version,module=googleapiclient.discovery)"
   ]
  },
  {
   "cell_type": "code",
   "execution_count": 7,
   "metadata": {},
   "outputs": [
    {
     "name": "stdout",
     "output_type": "stream",
     "text": [
      "Experimental Token Used.\n"
     ]
    },
    {
     "data": {
      "text/plain": [
       "<google.oauth2.credentials.Credentials at 0x22d36ee9190>"
      ]
     },
     "execution_count": 7,
     "metadata": {},
     "output_type": "execute_result"
    }
   ],
   "source": [
    "credentials = build_credentials(client_secrets_file,scopes,testing=True)\n",
    "credentials"
   ]
  },
  {
   "cell_type": "code",
   "execution_count": 5,
   "metadata": {},
   "outputs": [],
   "source": [
    "credentials = build_credentials(client_secrets_file,scopes)"
   ]
  },
  {
   "cell_type": "code",
   "execution_count": 6,
   "metadata": {},
   "outputs": [
    {
     "data": {
      "text/plain": [
       "<googleapiclient.discovery.Resource at 0x257b6fe6330>"
      ]
     },
     "execution_count": 6,
     "metadata": {},
     "output_type": "execute_result"
    }
   ],
   "source": [
    "youtube = build_yt_obj(credentials,api_service_name, api_version,module=googleapiclient.discovery)\n",
    "youtube"
   ]
  },
  {
   "cell_type": "code",
   "execution_count": 16,
   "metadata": {},
   "outputs": [],
   "source": [
    "request = youtube.liveChatMessages().list(\n",
    "    liveChatId=livechatid,\n",
    "    part=\"snippet,authorDetails\"\n",
    ")"
   ]
  },
  {
   "cell_type": "code",
   "execution_count": 38,
   "metadata": {},
   "outputs": [],
   "source": [
    "streamid = 'a5sdsbGKz8U'"
   ]
  },
  {
   "cell_type": "code",
   "execution_count": 39,
   "metadata": {},
   "outputs": [],
   "source": [
    "request = youtube.videos().list(\n",
    "    part=\"sniffppet,contentDetails,statistics\",\n",
    "    id=streamid\n",
    ")"
   ]
  },
  {
   "cell_type": "code",
   "execution_count": 37,
   "metadata": {},
   "outputs": [
    {
     "ename": "NameError",
     "evalue": "name 'livechatid' is not defined",
     "output_type": "error",
     "traceback": [
      "\u001b[1;31m---------------------------------------------------------------------------\u001b[0m",
      "\u001b[1;31mNameError\u001b[0m                                 Traceback (most recent call last)",
      "Cell \u001b[1;32mIn[37], line 1\u001b[0m\n\u001b[1;32m----> 1\u001b[0m request \u001b[38;5;241m=\u001b[39m youtube\u001b[38;5;241m.\u001b[39mliveChatMessages()\u001b[38;5;241m.\u001b[39minsert(part\u001b[38;5;241m=\u001b[39m\u001b[38;5;124m\"\u001b[39m\u001b[38;5;124msnippet\u001b[39m\u001b[38;5;124m\"\u001b[39m,body\u001b[38;5;241m=\u001b[39m{\u001b[38;5;124m\"\u001b[39m\u001b[38;5;124msnippet\u001b[39m\u001b[38;5;124m\"\u001b[39m: {\u001b[38;5;124m\"\u001b[39m\u001b[38;5;124mliveChatId\u001b[39m\u001b[38;5;124m\"\u001b[39m: \u001b[43mlivechatid\u001b[49m,\n\u001b[0;32m      2\u001b[0m         \u001b[38;5;124m\"\u001b[39m\u001b[38;5;124mtype\u001b[39m\u001b[38;5;124m\"\u001b[39m: \u001b[38;5;124m\"\u001b[39m\u001b[38;5;124mtextMessageEvent\u001b[39m\u001b[38;5;124m\"\u001b[39m,\n\u001b[0;32m      3\u001b[0m         \u001b[38;5;124m\"\u001b[39m\u001b[38;5;124mtextMessageDetails\u001b[39m\u001b[38;5;124m\"\u001b[39m: {\n\u001b[0;32m      4\u001b[0m             \u001b[38;5;124m\"\u001b[39m\u001b[38;5;124mmessageText\u001b[39m\u001b[38;5;124m\"\u001b[39m: \u001b[38;5;124m'\u001b[39m\u001b[38;5;124mAwesome.\u001b[39m\u001b[38;5;124m'\u001b[39m}}})\n",
      "\u001b[1;31mNameError\u001b[0m: name 'livechatid' is not defined"
     ]
    }
   ],
   "source": [
    "request = youtube.liveChatMessages().insert(part=\"snippet\",body={\"snippet\": {\"liveChatId\": livechatid,\n",
    "        \"type\": \"textMessageEvent\",\n",
    "        \"textMessageDetails\": {\n",
    "            \"messageText\": 'Awesome.'}}})"
   ]
  },
  {
   "cell_type": "code",
   "execution_count": 42,
   "metadata": {},
   "outputs": [
    {
     "ename": "AttributeError",
     "evalue": "'dict' object has no attribute 'status_code'",
     "output_type": "error",
     "traceback": [
      "\u001b[1;31m---------------------------------------------------------------------------\u001b[0m",
      "\u001b[1;31mAttributeError\u001b[0m                            Traceback (most recent call last)",
      "Cell \u001b[1;32mIn[42], line 1\u001b[0m\n\u001b[1;32m----> 1\u001b[0m \u001b[43mresponse\u001b[49m\u001b[38;5;241;43m.\u001b[39;49m\u001b[43mstatus_code\u001b[49m\n",
      "\u001b[1;31mAttributeError\u001b[0m: 'dict' object has no attribute 'status_code'"
     ]
    }
   ],
   "source": [
    "response = request.execute()\n"
   ]
  },
  {
   "cell_type": "code",
   "execution_count": 35,
   "metadata": {},
   "outputs": [
    {
     "data": {
      "text/plain": [
       "[{'kind': 'youtube#video',\n",
       "  'etag': '8W2wPWCalpyX1-VX34muGDA3wg8',\n",
       "  'id': 'a5sdsbGKz8U',\n",
       "  'snippet': {'publishedAt': '2024-10-07T16:03:16Z',\n",
       "   'channelId': 'UCSJ4gkVC6NrvII8umztf0Ow',\n",
       "   'title': 'Halloween lofi radio  🎃 - spooky beats to get chills to',\n",
       "   'description': \"🎼 | Listen on Spotify, Apple music and more\\n→  https://fanlink.tv/Lofi-Girl-Halloween-2024\\n\\n🎃 Welcome to Lofi Girl's Halloween radio! We hope you have a spooktacular time here\\n\\n👻 Get your Halloween Vinyl \\n→ https://bit.ly/4gu0KZN\\n\\n🌎 | Lofi Girl on all social media\\n→  https://fanlink.tv/lofigirl-social\\n\\n👕 | Lofi Girl merch\\n→  https://bit.ly/Iofigirl-shop\\n\\n🎭 | Create your lofi avatar now\\n→  https://lofigirl.com/generator/\\n\\n💬 | Join the Lofi Girl community\\n→   https://bit.ly/lofigirl-discord\\n→   https://bit.ly/lofigirl-reddit\\n\\n🎶 | Radio tracklist\\n→  https://bit.ly/lofi-full-tracklist\\n\\n🎨 | Art by Lofi Studio (full list of artists here)\\n→  https://www.instagram.com/p/CuChqFXs08M/\",\n",
       "   'thumbnails': {'default': {'url': 'https://i.ytimg.com/vi/a5sdsbGKz8U/default_live.jpg',\n",
       "     'width': 120,\n",
       "     'height': 90},\n",
       "    'medium': {'url': 'https://i.ytimg.com/vi/a5sdsbGKz8U/mqdefault_live.jpg',\n",
       "     'width': 320,\n",
       "     'height': 180},\n",
       "    'high': {'url': 'https://i.ytimg.com/vi/a5sdsbGKz8U/hqdefault_live.jpg',\n",
       "     'width': 480,\n",
       "     'height': 360},\n",
       "    'standard': {'url': 'https://i.ytimg.com/vi/a5sdsbGKz8U/sddefault_live.jpg',\n",
       "     'width': 640,\n",
       "     'height': 480},\n",
       "    'maxres': {'url': 'https://i.ytimg.com/vi/a5sdsbGKz8U/maxresdefault_live.jpg',\n",
       "     'width': 1280,\n",
       "     'height': 720}},\n",
       "   'channelTitle': 'Lofi Girl',\n",
       "   'tags': ['chilledcow',\n",
       "    'chilled cow',\n",
       "    'lofi',\n",
       "    'lofi hiphop',\n",
       "    'lofi hip hop',\n",
       "    'lo-fi hiphop',\n",
       "    'lo fi hip-hop',\n",
       "    'lofigirl',\n",
       "    'lofi girl',\n",
       "    'relaxing beats',\n",
       "    'beats',\n",
       "    'chill beats',\n",
       "    'halloween',\n",
       "    'scary music',\n",
       "    'spooky music',\n",
       "    'halloween radio',\n",
       "    'halloween music',\n",
       "    'halloween live',\n",
       "    'halloween playlist',\n",
       "    'halloween lofi',\n",
       "    'lofi halloween'],\n",
       "   'categoryId': '10',\n",
       "   'liveBroadcastContent': 'live',\n",
       "   'localized': {'title': 'Halloween lofi radio  🎃 - spooky beats to get chills to',\n",
       "    'description': \"🎼 | Listen on Spotify, Apple music and more\\n→  https://fanlink.tv/Lofi-Girl-Halloween-2024\\n\\n🎃 Welcome to Lofi Girl's Halloween radio! We hope you have a spooktacular time here\\n\\n👻 Get your Halloween Vinyl \\n→ https://bit.ly/4gu0KZN\\n\\n🌎 | Lofi Girl on all social media\\n→  https://fanlink.tv/lofigirl-social\\n\\n👕 | Lofi Girl merch\\n→  https://bit.ly/Iofigirl-shop\\n\\n🎭 | Create your lofi avatar now\\n→  https://lofigirl.com/generator/\\n\\n💬 | Join the Lofi Girl community\\n→   https://bit.ly/lofigirl-discord\\n→   https://bit.ly/lofigirl-reddit\\n\\n🎶 | Radio tracklist\\n→  https://bit.ly/lofi-full-tracklist\\n\\n🎨 | Art by Lofi Studio (full list of artists here)\\n→  https://www.instagram.com/p/CuChqFXs08M/\"}},\n",
       "  'contentDetails': {'duration': 'P0D',\n",
       "   'dimension': '2d',\n",
       "   'definition': 'sd',\n",
       "   'caption': 'false',\n",
       "   'licensedContent': True,\n",
       "   'contentRating': {},\n",
       "   'projection': 'rectangular'},\n",
       "  'statistics': {'viewCount': '322523',\n",
       "   'likeCount': '6242',\n",
       "   'favoriteCount': '0',\n",
       "   'commentCount': '0'}}]"
      ]
     },
     "execution_count": 35,
     "metadata": {},
     "output_type": "execute_result"
    }
   ],
   "source": [
    "response['items']"
   ]
  },
  {
   "cell_type": "code",
   "execution_count": 27,
   "metadata": {},
   "outputs": [
    {
     "data": {
      "text/plain": [
       "{'kind': 'youtube#videoListResponse',\n",
       " 'etag': 'YIUPVpqNjppyCWOZfL-19bLb7uk',\n",
       " 'items': [],\n",
       " 'pageInfo': {'totalResults': 0, 'resultsPerPage': 0}}"
      ]
     },
     "execution_count": 27,
     "metadata": {},
     "output_type": "execute_result"
    }
   ],
   "source": [
    "response"
   ]
  },
  {
   "cell_type": "code",
   "execution_count": 27,
   "metadata": {},
   "outputs": [
    {
     "data": {
      "text/plain": [
       "['WTSCnZPaeUrfLZr0Cvs1WYoEEOU',\n",
       " 'nTDMGksUBkj_PPGWwZ8GajyBFAQ',\n",
       " 'FqyU7sDmh8b49tjwETFoorjnnRw',\n",
       " '90cumXRqOaboNFeaUZfzG3uG5qU',\n",
       " 'GA7-iWZT40P4OGzEAeVsBKiiZL0',\n",
       " 'ThVLmOL8wxS_3J_1_ZgnI-bF98w',\n",
       " '_JTyPHwIYx3AW3Qk1LgRArVDn_4',\n",
       " 'oHqR1hyaDfNF4fmFLv7MhJy2eh0',\n",
       " 'jYzpyNnkHALZIMiIYlb9BwYIn7Q',\n",
       " 'aGYy-YH7SXTlW0fiTb8IS3D02P0',\n",
       " '2zpGylHBnH8VHgc4zF2LpNpL3kw',\n",
       " '-slCZadxAygEGfv2Avk957uiNa8',\n",
       " 'cp_uGmp5OKaymKGnEbho89WR7BY',\n",
       " '0zBtFiX_D2S31kYs6pbn-gt1M8U',\n",
       " 'eBDDMOEqGjRQQ6lK3RNGeOytG1g',\n",
       " '1DomSo51A7sDvTPs7Xgi0JImN_I',\n",
       " 'SfeztIqbjzYo2ltGVIO__cI2kt4',\n",
       " 'ArTR1PCxKr4FCvZUOHWSUIIKsZ8',\n",
       " 'tvrLZMZr5n7clppc-evNKrWwuMg',\n",
       " 'uLFrVUCe772bAIxclFBogqVRa5c',\n",
       " 'mKCdf4mTpsj9G2-MwisnY65PU6c',\n",
       " 'QsIRjOLBn1db1NzeDMDWZb9muhY',\n",
       " 'OKZNmIbJ_u9hocxWLW9Gluh3Qv0',\n",
       " 'g5kv-0Qck3ieUxjDvtZyYkKwH7o',\n",
       " '5gQpmgBhW30pzk9MtHKxh8gc3Wk',\n",
       " 'LN9Dev_07I2UY-Hk-EA3nLeHKHA',\n",
       " 'v6y2VgBaj_HHZmEMon3b03LZyjk',\n",
       " 'gunT-kJiekMhR7fankefu5iIEPI',\n",
       " 'R2ztlrZjb86bVkI3gbDlw0Ppa9g',\n",
       " 'FnTOH5JJJvfwykvz4h7yEAEimMc',\n",
       " 'uUhn3_DezETOurc7WM6HrQFfX54',\n",
       " 'es3fxcBsC2pU-Nwj4rOs9picP6o',\n",
       " 'aEj1fFB2ASErFcyXpztLxE6phMk',\n",
       " 'MwQfshQZY9u1RBYo33o3nDJ9OzY',\n",
       " 'FCSs702iijcDzvj40Iv9TsYYe_Y',\n",
       " 'bK5_r_aEvOgb-Wju9wZWNEMzafM',\n",
       " 'tetev9RHdYOOlrsEyYDX27ota68',\n",
       " 'e-6iSM481fK0V5h-vdQWGeNwRSk',\n",
       " 'nrr8WvOpH5h3ukSxjIeo38_lzyc',\n",
       " 'jzIvc4AMcJpsHtB2MCIQX8ITUws',\n",
       " 'nduW8jYBVkUPg7N2bmwv2fkA9V4',\n",
       " 'MuAYiumbi-fWCM7QFoCzJowR4s0',\n",
       " 'zvjj3cWyk0ZRexj2-_VdT_uG01Y',\n",
       " 'IKQPfg8dt7pTYA-m_7WrVXwIjPY',\n",
       " 'yZq8egAbZjq_i0l30IIN40-ygNk',\n",
       " '6wciv3ZtZNZIgxAcw9-QD1LNzQE',\n",
       " 'x1OmsVMKBim_14E3ftzD5QWiJaI',\n",
       " 'Xel83oIyX13bTOvAMV2hWtwDDis',\n",
       " 'IOWxF_rnRoQ2xt4WYGOJ_1BxYbQ',\n",
       " 'PlNzVG3kIo39VQHZX8cDLWY2lOE',\n",
       " 'mNiZhdyCyTFlpFlBL01r9UumLZM',\n",
       " 'MY7iNfxwDKVEkbZ-Za32XutW510',\n",
       " 'Ez5rpmzmwHQPeRasu9OyjBZau8E',\n",
       " '2Q9qeSDO0Ek6ZspyNmrhYubcrdg',\n",
       " 'hm9XqxU_jLBpFDOa-wNVnF3TU40',\n",
       " 'L2YIjzNib1Q94B6qOXKg2HXRrkk',\n",
       " '6GYzkF_CwhpboExhP0kJ3mycHg0',\n",
       " 'C84cgUBEU-yeZvDxtUnJOkg0eyU',\n",
       " '1a2ShmzocqdXxOUSh9Ny_kJWpZ8',\n",
       " 'Z4ot4ADlo29-VjGlwNArnMc05_s',\n",
       " '1bX8y1Vz2lnUJxItkL8-pLcjohA',\n",
       " 'LsK_jevzCBtbtqRrHZER4bVhJdY',\n",
       " 'h9cfDpDsI4cep7i75usU0cQ8clk',\n",
       " 'BODsnYlLfVcpObOQoBVFBBdG5N8',\n",
       " 'ZukqkefrIofaF7HDyb7QHSpYj1g',\n",
       " 'erexp6FGNDuwR64KGqos1V4ycxE',\n",
       " 'vya9OPGNLfZw6C3NE8ALLFxbU8E',\n",
       " 'crsOQjg8FS8_kDI3xVIDSHDtZ20',\n",
       " 'EzuqUs3_HUBdpTPw0fIsWxy23_o',\n",
       " '_OzPGakRTaFs2YegU0jwsLlHQSA',\n",
       " '3Ei-JpnZhZfozHGhOvUel1uJzac',\n",
       " '5R76V4VkpPMD3iu76y18ueOwht4',\n",
       " 'pMXZG5EBwff8CGX_oD1JusXIcuA',\n",
       " '974jfCAZpHCV8CzWgJntjXOy7rM',\n",
       " '8MoJ4oxPhiZw9gKRhuu3Z5XGWZc']"
      ]
     },
     "execution_count": 27,
     "metadata": {},
     "output_type": "execute_result"
    }
   ],
   "source": [
    "[i['etag'] for i in response['items']]"
   ]
  },
  {
   "cell_type": "code",
   "execution_count": 12,
   "metadata": {},
   "outputs": [
    {
     "ename": "KeyError",
     "evalue": "'pollingIntervalMillis'",
     "output_type": "error",
     "traceback": [
      "\u001b[1;31m---------------------------------------------------------------------------\u001b[0m",
      "\u001b[1;31mKeyError\u001b[0m                                  Traceback (most recent call last)",
      "Cell \u001b[1;32mIn[12], line 1\u001b[0m\n\u001b[1;32m----> 1\u001b[0m \u001b[38;5;28mint\u001b[39m(\u001b[43mresponse\u001b[49m\u001b[43m[\u001b[49m\u001b[38;5;124;43m'\u001b[39;49m\u001b[38;5;124;43mpollingIntervalMillis\u001b[39;49m\u001b[38;5;124;43m'\u001b[39;49m\u001b[43m]\u001b[49m\u001b[38;5;241m/\u001b[39m\u001b[38;5;241m1000\u001b[39m)\n",
      "\u001b[1;31mKeyError\u001b[0m: 'pollingIntervalMillis'"
     ]
    }
   ],
   "source": [
    "int(response['pollingIntervalMillis']/1000)"
   ]
  },
  {
   "cell_type": "code",
   "execution_count": 12,
   "metadata": {},
   "outputs": [],
   "source": [
    "with open('../token.json','w') as token:\n",
    "    token.write(credentials.to_json())"
   ]
  },
  {
   "cell_type": "code",
   "execution_count": null,
   "metadata": {},
   "outputs": [],
   "source": [
    "os.getcwd()"
   ]
  },
  {
   "cell_type": "code",
   "execution_count": 6,
   "metadata": {},
   "outputs": [],
   "source": [
    "confirmation_message = \"[Bot] I fucking hate this.\""
   ]
  },
  {
   "cell_type": "code",
   "execution_count": null,
   "metadata": {},
   "outputs": [],
   "source": [
    "!gcloud auth list"
   ]
  },
  {
   "cell_type": "code",
   "execution_count": 12,
   "metadata": {},
   "outputs": [],
   "source": [
    "request = youtube.liveChatMessages().insert(part=\"snippet\",body={\"snippet\": {\"liveChatId\": livechatid,\n",
    "        \"type\": \"textMessageEvent\",\n",
    "        \"textMessageDetails\": {\n",
    "            \"messageText\": confirmation_message}}})\n",
    "response = request.execute()"
   ]
  },
  {
   "cell_type": "code",
   "execution_count": 7,
   "metadata": {},
   "outputs": [
    {
     "name": "stdout",
     "output_type": "stream",
     "text": [
      "Original Token Used.\n"
     ]
    },
    {
     "ename": "HttpError",
     "evalue": "<HttpError 403 when requesting https://youtube.googleapis.com/youtube/v3/liveChat/messages?part=snippet&alt=json returned \"The specified live chat is no longer live.\". Details: \"[{'message': 'The specified live chat is no longer live.', 'domain': 'youtube.liveChat', 'reason': 'liveChatEnded'}]\">",
     "output_type": "error",
     "traceback": [
      "\u001b[1;31m---------------------------------------------------------------------------\u001b[0m",
      "\u001b[1;31mHttpError\u001b[0m                                 Traceback (most recent call last)",
      "Cell \u001b[1;32mIn[7], line 1\u001b[0m\n\u001b[1;32m----> 1\u001b[0m \u001b[43msend_chat_message\u001b[49m\u001b[43m(\u001b[49m\u001b[38;5;124;43m'\u001b[39;49m\u001b[38;5;124;43mCg0KC3Rhb0lYcU9Udi1jKicKGFVDSUVJUnotS3BZb0VQbnJOUXV5SHdKdxILdGFvSVhxT1R2LWM\u001b[39;49m\u001b[38;5;124;43m'\u001b[39;49m\u001b[43m,\u001b[49m\u001b[38;5;124;43m'\u001b[39;49m\u001b[38;5;124;43mDicks\u001b[39;49m\u001b[38;5;124;43m'\u001b[39;49m\u001b[43m)\u001b[49m\n",
      "File \u001b[1;32mc:\\Users\\RyuRa\\OneDrive\\Github\\Frogpants_Showbot\\funcs.py:216\u001b[0m, in \u001b[0;36msend_chat_message\u001b[1;34m(livechatid, author, api_service_name, api_version, client_secrets_file, credentials, scopes, module)\u001b[0m\n\u001b[0;32m    211\u001b[0m confirmation_message \u001b[38;5;241m=\u001b[39m randomize_confirmation(author)\n\u001b[0;32m    212\u001b[0m request \u001b[38;5;241m=\u001b[39m youtube\u001b[38;5;241m.\u001b[39mliveChatMessages()\u001b[38;5;241m.\u001b[39minsert(part\u001b[38;5;241m=\u001b[39m\u001b[38;5;124m\"\u001b[39m\u001b[38;5;124msnippet\u001b[39m\u001b[38;5;124m\"\u001b[39m,body\u001b[38;5;241m=\u001b[39m{\u001b[38;5;124m\"\u001b[39m\u001b[38;5;124msnippet\u001b[39m\u001b[38;5;124m\"\u001b[39m: {\u001b[38;5;124m\"\u001b[39m\u001b[38;5;124mliveChatId\u001b[39m\u001b[38;5;124m\"\u001b[39m: livechatid,\n\u001b[0;32m    213\u001b[0m         \u001b[38;5;124m\"\u001b[39m\u001b[38;5;124mtype\u001b[39m\u001b[38;5;124m\"\u001b[39m: \u001b[38;5;124m\"\u001b[39m\u001b[38;5;124mtextMessageEvent\u001b[39m\u001b[38;5;124m\"\u001b[39m,\n\u001b[0;32m    214\u001b[0m         \u001b[38;5;124m\"\u001b[39m\u001b[38;5;124mtextMessageDetails\u001b[39m\u001b[38;5;124m\"\u001b[39m: {\n\u001b[0;32m    215\u001b[0m             \u001b[38;5;124m\"\u001b[39m\u001b[38;5;124mmessageText\u001b[39m\u001b[38;5;124m\"\u001b[39m: confirmation_message}}})\n\u001b[1;32m--> 216\u001b[0m response \u001b[38;5;241m=\u001b[39m \u001b[43mrequest\u001b[49m\u001b[38;5;241;43m.\u001b[39;49m\u001b[43mexecute\u001b[49m\u001b[43m(\u001b[49m\u001b[43m)\u001b[49m\n\u001b[0;32m    217\u001b[0m \u001b[38;5;28mprint\u001b[39m(\u001b[38;5;124m'\u001b[39m\u001b[38;5;124mSubmission attempted.\u001b[39m\u001b[38;5;124m'\u001b[39m)\n\u001b[0;32m    218\u001b[0m \u001b[38;5;28;01mreturn\u001b[39;00m response\n",
      "File \u001b[1;32mc:\\Users\\RyuRa\\OneDrive\\Github\\Frogpants_Showbot\\.venv\\Lib\\site-packages\\googleapiclient\\_helpers.py:130\u001b[0m, in \u001b[0;36mpositional.<locals>.positional_decorator.<locals>.positional_wrapper\u001b[1;34m(*args, **kwargs)\u001b[0m\n\u001b[0;32m    128\u001b[0m     \u001b[38;5;28;01melif\u001b[39;00m positional_parameters_enforcement \u001b[38;5;241m==\u001b[39m POSITIONAL_WARNING:\n\u001b[0;32m    129\u001b[0m         logger\u001b[38;5;241m.\u001b[39mwarning(message)\n\u001b[1;32m--> 130\u001b[0m \u001b[38;5;28;01mreturn\u001b[39;00m \u001b[43mwrapped\u001b[49m\u001b[43m(\u001b[49m\u001b[38;5;241;43m*\u001b[39;49m\u001b[43margs\u001b[49m\u001b[43m,\u001b[49m\u001b[43m \u001b[49m\u001b[38;5;241;43m*\u001b[39;49m\u001b[38;5;241;43m*\u001b[39;49m\u001b[43mkwargs\u001b[49m\u001b[43m)\u001b[49m\n",
      "File \u001b[1;32mc:\\Users\\RyuRa\\OneDrive\\Github\\Frogpants_Showbot\\.venv\\Lib\\site-packages\\googleapiclient\\http.py:938\u001b[0m, in \u001b[0;36mHttpRequest.execute\u001b[1;34m(self, http, num_retries)\u001b[0m\n\u001b[0;32m    936\u001b[0m     callback(resp)\n\u001b[0;32m    937\u001b[0m \u001b[38;5;28;01mif\u001b[39;00m resp\u001b[38;5;241m.\u001b[39mstatus \u001b[38;5;241m>\u001b[39m\u001b[38;5;241m=\u001b[39m \u001b[38;5;241m300\u001b[39m:\n\u001b[1;32m--> 938\u001b[0m     \u001b[38;5;28;01mraise\u001b[39;00m HttpError(resp, content, uri\u001b[38;5;241m=\u001b[39m\u001b[38;5;28mself\u001b[39m\u001b[38;5;241m.\u001b[39muri)\n\u001b[0;32m    939\u001b[0m \u001b[38;5;28;01mreturn\u001b[39;00m \u001b[38;5;28mself\u001b[39m\u001b[38;5;241m.\u001b[39mpostproc(resp, content)\n",
      "\u001b[1;31mHttpError\u001b[0m: <HttpError 403 when requesting https://youtube.googleapis.com/youtube/v3/liveChat/messages?part=snippet&alt=json returned \"The specified live chat is no longer live.\". Details: \"[{'message': 'The specified live chat is no longer live.', 'domain': 'youtube.liveChat', 'reason': 'liveChatEnded'}]\">"
     ]
    }
   ],
   "source": [
    "send_chat_message('Cg0KC3Rhb0lYcU9Udi1jKicKGFVDSUVJUnotS3BZb0VQbnJOUXV5SHdKdxILdGFvSVhxT1R2LWM','Dicks')"
   ]
  },
  {
   "cell_type": "code",
   "execution_count": 9,
   "metadata": {},
   "outputs": [
    {
     "name": "stdout",
     "output_type": "stream",
     "text": [
      "Original Token Used.\n",
      "No live chat detected, likely because the chat has ended.\n"
     ]
    }
   ],
   "source": [
    "try:\n",
    "    send_chat_message('Cg0KC3Rhb0lYcU9Udi1jKicKGFVDSUVJUnotS3BZb0VQbnJOUXV5SHdKdxILdGFvSVhxT1R2LWM','Dicks')\n",
    "except googleapiclient.errors.HttpError:\n",
    "    print('No live chat detected, likely because the chat has ended.')"
   ]
  },
  {
   "cell_type": "code",
   "execution_count": 9,
   "metadata": {},
   "outputs": [
    {
     "name": "stdout",
     "output_type": "stream",
     "text": [
      "Titties\n",
      "Talia James:  I have nothing snarky because this experience saps my will to live\n",
      "Titties\n",
      "Titties\n"
     ]
    },
    {
     "ename": "HttpError",
     "evalue": "<HttpError 400 when requesting https://youtube.googleapis.com/youtube/v3/liveChat/messages?part=snippet&alt=json returned \"Request contains an invalid argument.\". Details: \"[{'domain': 'youtube.api.v3.LiveChatMessageInsertResponse.Error', 'reason': 'ERROR_UNSPECIFIED'}]\">",
     "output_type": "error",
     "traceback": [
      "\u001b[1;31m---------------------------------------------------------------------------\u001b[0m",
      "\u001b[1;31mHttpError\u001b[0m                                 Traceback (most recent call last)",
      "Cell \u001b[1;32mIn[9], line 16\u001b[0m\n\u001b[0;32m     14\u001b[0m         credentials \u001b[38;5;241m=\u001b[39m build_credentials(client_secrets_file,scopes) \u001b[38;5;66;03m#Builds OAuth2 credentials object. Uses existing files or makes new one if not detected. This links the function to the account that follows the URI.\u001b[39;00m\n\u001b[0;32m     15\u001b[0m         youtube \u001b[38;5;241m=\u001b[39m build_yt_obj(googleapiclient\u001b[38;5;241m.\u001b[39mdiscovery,credentials) \u001b[38;5;66;03m#Common step in calling the API. Always have to build an object on which to call methods.\u001b[39;00m\n\u001b[1;32m---> 16\u001b[0m         response \u001b[38;5;241m=\u001b[39m \u001b[43msend_chat_message\u001b[49m\u001b[43m(\u001b[49m\u001b[43mlivechatid\u001b[49m\u001b[43m,\u001b[49m\u001b[43mauthor\u001b[49m\u001b[43m)\u001b[49m \u001b[38;5;66;03m#The API response in JSON format. Not technically needed but saved in case.\u001b[39;00m\n\u001b[0;32m     17\u001b[0m         \u001b[38;5;28mprint\u001b[39m(\u001b[38;5;124mf\u001b[39m\u001b[38;5;124m'\u001b[39m\u001b[38;5;124mTitle successfully submitted and confirmed: \u001b[39m\u001b[38;5;132;01m{\u001b[39;00mauthor\u001b[38;5;132;01m}\u001b[39;00m\u001b[38;5;124m'\u001b[39m) \u001b[38;5;66;03m#Generic success message only for the console for debugging and monitoring purposes.\u001b[39;00m\n\u001b[0;32m     18\u001b[0m time\u001b[38;5;241m.\u001b[39msleep(\u001b[38;5;241m5\u001b[39m)\n",
      "File \u001b[1;32mc:\\Users\\RyuRa\\OneDrive\\Github\\Frogpants_Showbot\\funcs.py:213\u001b[0m, in \u001b[0;36msend_chat_message\u001b[1;34m(livechatid, author, api_service_name, api_version, client_secrets_file, credentials, scopes, module)\u001b[0m\n\u001b[0;32m    208\u001b[0m confirmation_message \u001b[38;5;241m=\u001b[39m randomize_confirmation(author)\n\u001b[0;32m    209\u001b[0m request \u001b[38;5;241m=\u001b[39m youtube\u001b[38;5;241m.\u001b[39mliveChatMessages()\u001b[38;5;241m.\u001b[39minsert(part\u001b[38;5;241m=\u001b[39m\u001b[38;5;124m\"\u001b[39m\u001b[38;5;124msnippet\u001b[39m\u001b[38;5;124m\"\u001b[39m,body\u001b[38;5;241m=\u001b[39m{\u001b[38;5;124m\"\u001b[39m\u001b[38;5;124msnippet\u001b[39m\u001b[38;5;124m\"\u001b[39m: {\u001b[38;5;124m\"\u001b[39m\u001b[38;5;124mliveChatId\u001b[39m\u001b[38;5;124m\"\u001b[39m: livechatid,\n\u001b[0;32m    210\u001b[0m         \u001b[38;5;124m\"\u001b[39m\u001b[38;5;124mtype\u001b[39m\u001b[38;5;124m\"\u001b[39m: \u001b[38;5;124m\"\u001b[39m\u001b[38;5;124mtextMessageEvent\u001b[39m\u001b[38;5;124m\"\u001b[39m,\n\u001b[0;32m    211\u001b[0m         \u001b[38;5;124m\"\u001b[39m\u001b[38;5;124mtextMessageDetails\u001b[39m\u001b[38;5;124m\"\u001b[39m: {\n\u001b[0;32m    212\u001b[0m             \u001b[38;5;124m\"\u001b[39m\u001b[38;5;124mmessageText\u001b[39m\u001b[38;5;124m\"\u001b[39m: confirmation_message}}})\n\u001b[1;32m--> 213\u001b[0m response \u001b[38;5;241m=\u001b[39m \u001b[43mrequest\u001b[49m\u001b[38;5;241;43m.\u001b[39;49m\u001b[43mexecute\u001b[49m\u001b[43m(\u001b[49m\u001b[43m)\u001b[49m\n\u001b[0;32m    214\u001b[0m \u001b[38;5;28mprint\u001b[39m(\u001b[38;5;124m'\u001b[39m\u001b[38;5;124mSubmission attempted.\u001b[39m\u001b[38;5;124m'\u001b[39m)\n\u001b[0;32m    215\u001b[0m \u001b[38;5;28;01mreturn\u001b[39;00m response\n",
      "File \u001b[1;32mc:\\Users\\RyuRa\\OneDrive\\Github\\Frogpants_Showbot\\.venv\\Lib\\site-packages\\googleapiclient\\_helpers.py:130\u001b[0m, in \u001b[0;36mpositional.<locals>.positional_decorator.<locals>.positional_wrapper\u001b[1;34m(*args, **kwargs)\u001b[0m\n\u001b[0;32m    128\u001b[0m     \u001b[38;5;28;01melif\u001b[39;00m positional_parameters_enforcement \u001b[38;5;241m==\u001b[39m POSITIONAL_WARNING:\n\u001b[0;32m    129\u001b[0m         logger\u001b[38;5;241m.\u001b[39mwarning(message)\n\u001b[1;32m--> 130\u001b[0m \u001b[38;5;28;01mreturn\u001b[39;00m \u001b[43mwrapped\u001b[49m\u001b[43m(\u001b[49m\u001b[38;5;241;43m*\u001b[39;49m\u001b[43margs\u001b[49m\u001b[43m,\u001b[49m\u001b[43m \u001b[49m\u001b[38;5;241;43m*\u001b[39;49m\u001b[38;5;241;43m*\u001b[39;49m\u001b[43mkwargs\u001b[49m\u001b[43m)\u001b[49m\n",
      "File \u001b[1;32mc:\\Users\\RyuRa\\OneDrive\\Github\\Frogpants_Showbot\\.venv\\Lib\\site-packages\\googleapiclient\\http.py:938\u001b[0m, in \u001b[0;36mHttpRequest.execute\u001b[1;34m(self, http, num_retries)\u001b[0m\n\u001b[0;32m    936\u001b[0m     callback(resp)\n\u001b[0;32m    937\u001b[0m \u001b[38;5;28;01mif\u001b[39;00m resp\u001b[38;5;241m.\u001b[39mstatus \u001b[38;5;241m>\u001b[39m\u001b[38;5;241m=\u001b[39m \u001b[38;5;241m300\u001b[39m:\n\u001b[1;32m--> 938\u001b[0m     \u001b[38;5;28;01mraise\u001b[39;00m HttpError(resp, content, uri\u001b[38;5;241m=\u001b[39m\u001b[38;5;28mself\u001b[39m\u001b[38;5;241m.\u001b[39muri)\n\u001b[0;32m    939\u001b[0m \u001b[38;5;28;01mreturn\u001b[39;00m \u001b[38;5;28mself\u001b[39m\u001b[38;5;241m.\u001b[39mpostproc(resp, content)\n",
      "\u001b[1;31mHttpError\u001b[0m: <HttpError 400 when requesting https://youtube.googleapis.com/youtube/v3/liveChat/messages?part=snippet&alt=json returned \"Request contains an invalid argument.\". Details: \"[{'domain': 'youtube.api.v3.LiveChatMessageInsertResponse.Error', 'reason': 'ERROR_UNSPECIFIED'}]\">"
     ]
    }
   ],
   "source": [
    "while True:\n",
    "    authors,titles = title_search(read_chat(livechatid)) #Poll API for all chat messages, regardless of they've been polled already or not. title_search() already filters for '!s' chat trigger and cleans as needed\n",
    "    #Check extracted titles versus previously submitted ones, submit if new\n",
    "    for author,title in zip(authors,titles):\n",
    "        if title not in submitted_titles: #Check extracted titles versus previously submitted ones, submit if new\n",
    "            author_index.append(author)\n",
    "            submitted_titles.append(title)\n",
    "            print(f'{author}: {title}') #Add new title to list and add author to another list to maintain the order. Print for debugging and monitoring purposes.\n",
    "            author_html,title_html = html_ify(author),html_ify(title) #Prepare link for submission then submit via Requests module\n",
    "            submission_link = f'http://www.showbot.tv/s/add.php?title={title_html}&user={author_html}&channel={showbot_channel}&key={token}'\n",
    "            requests.get(submission_link)\n",
    "            #At this point the title has been submitted. This is one complete function and API call. Confirmation via the .insert() method to send a message is a separate \n",
    "            #function incurring higher quota useage.\n",
    "            credentials = build_credentials(client_secrets_file,scopes) #Builds OAuth2 credentials object. Uses existing files or makes new one if not detected. This links the function to the account that follows the URI.\n",
    "            youtube = build_yt_obj(googleapiclient.discovery,credentials) #Common step in calling the API. Always have to build an object on which to call methods.\n",
    "            response = send_chat_message(livechatid,author) #The API response in JSON format. Not technically needed but saved in case.\n",
    "            print(f'Title successfully submitted and confirmed: {author}') #Generic success message only for the console for debugging and monitoring purposes.\n",
    "    time.sleep(5)"
   ]
  },
  {
   "cell_type": "code",
   "execution_count": 11,
   "metadata": {},
   "outputs": [],
   "source": [
    "author_index,submitted_titles = build_submission_history(showbot_channel)"
   ]
  },
  {
   "cell_type": "code",
   "execution_count": 12,
   "metadata": {},
   "outputs": [
    {
     "name": "stdout",
     "output_type": "stream",
     "text": [
      "Titties\n",
      "Talia James:  I have nothing snarky because this experience saps my will to live\n",
      "Titties\n",
      "Submission attempted.\n",
      "Title successfully submitted and confirmed: Talia James\n",
      "Titties\n",
      "Titties\n",
      "Titties\n",
      "Titties\n"
     ]
    },
    {
     "ename": "KeyboardInterrupt",
     "evalue": "",
     "output_type": "error",
     "traceback": [
      "\u001b[1;31m---------------------------------------------------------------------------\u001b[0m",
      "\u001b[1;31mKeyboardInterrupt\u001b[0m                         Traceback (most recent call last)",
      "Cell \u001b[1;32mIn[12], line 30\u001b[0m\n\u001b[0;32m     23\u001b[0m             \u001b[38;5;28mprint\u001b[39m(\u001b[38;5;124mf\u001b[39m\u001b[38;5;124m'\u001b[39m\u001b[38;5;124mHTTP Error: [\u001b[39m\u001b[38;5;132;01m{\u001b[39;00mauthor\u001b[38;5;132;01m}\u001b[39;00m\u001b[38;5;124m: \u001b[39m\u001b[38;5;132;01m{\u001b[39;00mtitle\u001b[38;5;132;01m}\u001b[39;00m\u001b[38;5;124m] failed to submit.\u001b[39m\u001b[38;5;124m'\u001b[39m)\u001b[38;5;66;03m# Trying again in 3 seconds.') #This is an experimental approach to handling the 403 error by attempting to resubmit the response asynchronously.\u001b[39;00m\n\u001b[0;32m     24\u001b[0m             \u001b[38;5;66;03m# asyncio.sleep(3)\u001b[39;00m\n\u001b[0;32m     25\u001b[0m             \u001b[38;5;66;03m# try:\u001b[39;00m\n\u001b[0;32m     26\u001b[0m             \u001b[38;5;66;03m#     response = asyncio.send_async_chat_message(livechatid,author)\u001b[39;00m\n\u001b[0;32m     27\u001b[0m             \u001b[38;5;66;03m# except googleapiclient.errors.HttpError:\u001b[39;00m\n\u001b[0;32m     28\u001b[0m             \u001b[38;5;66;03m#     print(f'Submission of [{author}: {title}] failed.')\u001b[39;00m\n\u001b[0;32m     29\u001b[0m             \u001b[38;5;66;03m# print(traceback.format_exc())\u001b[39;00m\n\u001b[1;32m---> 30\u001b[0m \u001b[43mtime\u001b[49m\u001b[38;5;241;43m.\u001b[39;49m\u001b[43msleep\u001b[49m\u001b[43m(\u001b[49m\u001b[38;5;241;43m5\u001b[39;49m\u001b[43m)\u001b[49m \n",
      "\u001b[1;31mKeyboardInterrupt\u001b[0m: "
     ]
    }
   ],
   "source": [
    "while True:\n",
    "    authors,titles = title_search(read_chat(livechatid)) #Poll API for all chat messages, regardless of they've been polled already or not. title_search() already filters for '!s' chat trigger and cleans as needed\n",
    "    #Check extracted titles versus previously submitted ones, submit if new\n",
    "    for author,title in zip(authors,titles):\n",
    "        if title not in submitted_titles: #Check extracted titles versus previously submitted ones, submit if new\n",
    "            author_index.append(author)\n",
    "            submitted_titles.append(title)\n",
    "            print(f'{author}: {title}') #Add new title to list and add author to another list to maintain the order. Print for debugging and monitoring purposes.\n",
    "            author_html,title_html = html_ify(author),html_ify(title) #Prepare link for submission then submit via Requests module\n",
    "            submission_link = f'http://www.showbot.tv/s/add.php?title={title_html}&user={author_html}&channel={showbot_channel}&key={token}'\n",
    "            try:\n",
    "                requests.get(submission_link)\n",
    "            except TimeoutError:\n",
    "                print('Timeout error')\n",
    "            #At this point the title has been submitted. This is one complete function and API call. Confirmation via the .insert() method to send a message is a separate \n",
    "            #function incurring higher quota useage.\n",
    "            credentials = Credentials.from_authorized_user_file(\"../working_submit_token_Talia_do_not_delete.json\", scopes)\n",
    "            youtube = build_yt_obj(googleapiclient.discovery,credentials,api_service_name, api_version) #Common step in calling the API. Always have to build an object on which to call methods.\n",
    "            try:\n",
    "                response = send_chat_message(livechatid,author) #The API response in JSON format. Not technically needed but saved in case.\n",
    "                print(f'Title successfully submitted and confirmed: {author}') #Generic success message only for the console for debugging and monitoring purposes.\n",
    "            except googleapiclient.errors.HttpError: #For some reason the script can get a 403 response code error when attempting to submit a confirmation response. This block keeps the script from halting if that occurs.\n",
    "                print(f'HTTP Error: [{author}: {title}] failed to submit.')# Trying again in 3 seconds.') #This is an experimental approach to handling the 403 error by attempting to resubmit the response asynchronously.\n",
    "                # asyncio.sleep(3)\n",
    "                # try:\n",
    "                #     response = asyncio.send_async_chat_message(livechatid,author)\n",
    "                # except googleapiclient.errors.HttpError:\n",
    "                #     print(f'Submission of [{author}: {title}] failed.')\n",
    "                # print(traceback.format_exc())\n",
    "    time.sleep(5) "
   ]
  }
 ],
 "metadata": {
  "kernelspec": {
   "display_name": ".venv",
   "language": "python",
   "name": "python3"
  },
  "language_info": {
   "codemirror_mode": {
    "name": "ipython",
    "version": 3
   },
   "file_extension": ".py",
   "mimetype": "text/x-python",
   "name": "python",
   "nbconvert_exporter": "python",
   "pygments_lexer": "ipython3",
   "version": "3.12.3"
  }
 },
 "nbformat": 4,
 "nbformat_minor": 2
}
