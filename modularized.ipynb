{
 "cells": [
  {
   "cell_type": "markdown",
   "metadata": {},
   "source": [
    "This is a document I use to separate out functions of the main script in order to troubleshoot or quickly bypass some steps. I often use this to avoid spamming chat or API requests when I want to test changes in a script without using quota credits or some other resource."
   ]
  },
  {
   "cell_type": "code",
   "execution_count": 4,
   "metadata": {},
   "outputs": [],
   "source": [
    "from funcs import *\n",
    "import requests,time\n",
    "from pprint import pprint\n",
    "showbot_channel,token = 'Frogpants','Nhrj6amcz4AqiSP6AVv5YhhQX8OhJ6wO'\n",
    "channel_id = '@ScottJohnson'\n",
    "numeric_id = 'UCIEIRz-KpYoEPnrNQuyHwJw'"
   ]
  },
  {
   "cell_type": "code",
   "execution_count": 8,
   "metadata": {},
   "outputs": [],
   "source": [
    "! \".venv/Scripts/activate.bat\""
   ]
  },
  {
   "cell_type": "code",
   "execution_count": 6,
   "metadata": {},
   "outputs": [
    {
     "name": "stdout",
     "output_type": "stream",
     "text": [
      "Live stream detected.\n",
      "Live stream id: fsTfWrRMDAs\n"
     ]
    }
   ],
   "source": [
    "streamid = find_stream_id('@ScottJohnson')\n",
    "if streamid:\n",
    "    print(f'Live stream detected.\\nLive stream id: {streamid}')\n",
    "else:\n",
    "    print('No live stream found.')"
   ]
  },
  {
   "cell_type": "code",
   "execution_count": 6,
   "metadata": {},
   "outputs": [],
   "source": [
    "streamid = 'fsTfWrRMDAs'"
   ]
  },
  {
   "cell_type": "markdown",
   "metadata": {},
   "source": [
    "For testing"
   ]
  },
  {
   "cell_type": "code",
   "execution_count": null,
   "metadata": {},
   "outputs": [],
   "source": [
    "authors,messages = parse_chat(read_chat(find_chat_id(streamid)))\n",
    "for author,message in zip(authors,messages):\n",
    "    print(f'{author}: {message}')"
   ]
  },
  {
   "cell_type": "markdown",
   "metadata": {},
   "source": [
    "For titles"
   ]
  },
  {
   "cell_type": "code",
   "execution_count": null,
   "metadata": {},
   "outputs": [],
   "source": [
    "author_index,titles = title_search(read_chat(find_chat_id(streamid)))\n",
    "# for author,title in zip(authors,titles):\n",
    "#     print(f'{author}: {title}')"
   ]
  },
  {
   "cell_type": "code",
   "execution_count": 18,
   "metadata": {},
   "outputs": [],
   "source": [
    "authors_html,titles_html = [html_ify(auth) for auth in author_index],[html_ify(title) for title in titles]\n",
    "for author_html,title_html in zip(authors_html,titles_html):\n",
    "    print(f'{author_html}: {title_html}')\n",
    "    "
   ]
  },
  {
   "cell_type": "code",
   "execution_count": 7,
   "metadata": {},
   "outputs": [
    {
     "name": "stdout",
     "output_type": "stream",
     "text": [
      "Credentials found.\n"
     ]
    }
   ],
   "source": [
    "livechatid = find_chat_id(streamid)"
   ]
  },
  {
   "cell_type": "code",
   "execution_count": 12,
   "metadata": {},
   "outputs": [],
   "source": [
    "livechatid = 'Cg0KC3Rhb0lYcU9Udi1jKicKGFVDSUVJUnotS3BZb0VQbnJOUXV5SHdKdxILdGFvSVhxT1R2LWM'"
   ]
  },
  {
   "cell_type": "code",
   "execution_count": 9,
   "metadata": {},
   "outputs": [
    {
     "name": "stdout",
     "output_type": "stream",
     "text": [
      "Titles scraped for Showbot.tv channel: Frogpants \n"
     ]
    }
   ],
   "source": [
    "author_index,submitted_titles = build_submission_history(showbot_channel)"
   ]
  },
  {
   "cell_type": "code",
   "execution_count": 10,
   "metadata": {},
   "outputs": [
    {
     "ename": "NameError",
     "evalue": "name 'authors' is not defined",
     "output_type": "error",
     "traceback": [
      "\u001b[1;31m---------------------------------------------------------------------------\u001b[0m",
      "\u001b[1;31mNameError\u001b[0m                                 Traceback (most recent call last)",
      "Cell \u001b[1;32mIn[10], line 1\u001b[0m\n\u001b[1;32m----> 1\u001b[0m \u001b[38;5;28;01mfor\u001b[39;00m author,title \u001b[38;5;129;01min\u001b[39;00m \u001b[38;5;28mzip\u001b[39m(\u001b[43mauthors\u001b[49m,titles):\n\u001b[0;32m      2\u001b[0m     \u001b[38;5;28mprint\u001b[39m(\u001b[38;5;124mf\u001b[39m\u001b[38;5;124m'\u001b[39m\u001b[38;5;132;01m{\u001b[39;00mauthor\u001b[38;5;132;01m}\u001b[39;00m\u001b[38;5;124m: \u001b[39m\u001b[38;5;132;01m{\u001b[39;00mtitle\u001b[38;5;132;01m}\u001b[39;00m\u001b[38;5;124m'\u001b[39m)\n",
      "\u001b[1;31mNameError\u001b[0m: name 'authors' is not defined"
     ]
    }
   ],
   "source": [
    "for author,title in zip(authors,titles):\n",
    "    print(f'{author}: {title}')"
   ]
  },
  {
   "cell_type": "code",
   "execution_count": 10,
   "metadata": {},
   "outputs": [
    {
     "name": "stdout",
     "output_type": "stream",
     "text": [
      "Credentials found.\n",
      "Credentials refreshed.\n",
      "New credentials saved via default flow.\n"
     ]
    },
    {
     "data": {
      "text/plain": [
       "<google.oauth2.credentials.Credentials at 0x1637de57ce0>"
      ]
     },
     "execution_count": 10,
     "metadata": {},
     "output_type": "execute_result"
    }
   ],
   "source": [
    "credentials = build_credentials(client_secrets_file,scopes,testing=True)\n",
    "credentials"
   ]
  },
  {
   "cell_type": "code",
   "execution_count": 3,
   "metadata": {},
   "outputs": [],
   "source": [
    "credentials = Credentials.from_authorized_user_file(\"../working_submit_token_Talia_do_not_delete.json\", scopes)\n",
    "youtube = build_yt_obj(credentials,api_service_name, api_version,module=googleapiclient.discovery)"
   ]
  },
  {
   "cell_type": "code",
   "execution_count": 16,
   "metadata": {},
   "outputs": [
    {
     "name": "stdout",
     "output_type": "stream",
     "text": [
      "Please visit this URL to authorize this application: https://accounts.google.com/o/oauth2/auth?response_type=code&client_id=347817049340-9r6vmp3vflu05g81jt897f3hankoud92.apps.googleusercontent.com&redirect_uri=http%3A%2F%2Flocalhost%3A58104%2F&scope=https%3A%2F%2Fwww.googleapis.com%2Fauth%2Fyoutube.force-ssl+https%3A%2F%2Fwww.googleapis.com%2Fauth%2Fyoutube.readonly&state=QKBk0bXll44SuYzoaI2JNYLwZQg7cl&access_type=offline\n"
     ]
    }
   ],
   "source": [
    "flow = google_auth_oauthlib.flow.InstalledAppFlow.from_client_secrets_file(client_secrets_file,scopes)\n",
    "credentials = flow.run_local_server(port=0)"
   ]
  },
  {
   "cell_type": "code",
   "execution_count": 3,
   "metadata": {},
   "outputs": [
    {
     "name": "stdout",
     "output_type": "stream",
     "text": [
      "Credentials found.\n"
     ]
    }
   ],
   "source": [
    "credentials = build_credentials(client_secrets_file,scopes)"
   ]
  },
  {
   "cell_type": "code",
   "execution_count": 17,
   "metadata": {},
   "outputs": [
    {
     "data": {
      "text/plain": [
       "<googleapiclient.discovery.Resource at 0x1637fbfcd10>"
      ]
     },
     "execution_count": 17,
     "metadata": {},
     "output_type": "execute_result"
    }
   ],
   "source": [
    "youtube = build_yt_obj(credentials,api_service_name, api_version,module=googleapiclient.discovery)\n",
    "youtube"
   ]
  },
  {
   "cell_type": "code",
   "execution_count": 15,
   "metadata": {},
   "outputs": [],
   "source": [
    "with open('../token.json','w') as token:\n",
    "    token.write(credentials.to_json())"
   ]
  },
  {
   "cell_type": "code",
   "execution_count": 9,
   "metadata": {},
   "outputs": [
    {
     "name": "stdout",
     "output_type": "stream",
     "text": [
      "Original Token Used.\n",
      "No live chat detected, likely because the chat has ended.\n"
     ]
    }
   ],
   "source": [
    "try:\n",
    "    send_chat_message('Cg0KC3Rhb0lYcU9Udi1jKicKGFVDSUVJUnotS3BZb0VQbnJOUXV5SHdKdxILdGFvSVhxT1R2LWM','Dicks')\n",
    "except googleapiclient.errors.HttpError:\n",
    "    print('No live chat detected, likely because the chat has ended.')"
   ]
  },
  {
   "cell_type": "code",
   "execution_count": null,
   "metadata": {},
   "outputs": [],
   "source": [
    "while True:\n",
    "    authors,titles = title_search(read_chat(livechatid)) #Poll API for all chat messages, regardless of they've been polled already or not. title_search() already filters for '!s' chat trigger and cleans as needed\n",
    "    #Check extracted titles versus previously submitted ones, submit if new\n",
    "    for author,title in zip(authors,titles):\n",
    "        if title not in submitted_titles: #Check extracted titles versus previously submitted ones, submit if new\n",
    "            author_index.append(author)\n",
    "            submitted_titles.append(title)\n",
    "            print(f'{author}: {title}') #Add new title to list and add author to another list to maintain the order. Print for debugging and monitoring purposes.\n",
    "            author_html,title_html = html_ify(author),html_ify(title) #Prepare link for submission then submit via Requests module\n",
    "            submission_link = f'http://www.showbot.tv/s/add.php?title={title_html}&user={author_html}&channel={showbot_channel}&key={token}'\n",
    "            requests.get(submission_link)\n",
    "            #At this point the title has been submitted. This is one complete function and API call. Confirmation via the .insert() method to send a message is a separate \n",
    "            #function incurring higher quota useage.\n",
    "            credentials = build_credentials(client_secrets_file,scopes) #Builds OAuth2 credentials object. Uses existing files or makes new one if not detected. This links the function to the account that follows the URI.\n",
    "            youtube = build_yt_obj(googleapiclient.discovery,credentials) #Common step in calling the API. Always have to build an object on which to call methods.\n",
    "            response = send_chat_message(livechatid,author) #The API response in JSON format. Not technically needed but saved in case.\n",
    "            print(f'Title successfully submitted and confirmed: {author}') #Generic success message only for the console for debugging and monitoring purposes.\n",
    "    time.sleep(5)"
   ]
  },
  {
   "cell_type": "code",
   "execution_count": 11,
   "metadata": {},
   "outputs": [],
   "source": [
    "author_index,submitted_titles = build_submission_history(showbot_channel)"
   ]
  },
  {
   "cell_type": "code",
   "execution_count": null,
   "metadata": {},
   "outputs": [],
   "source": [
    "while True:\n",
    "    authors,titles = title_search(read_chat(livechatid)) #Poll API for all chat messages, regardless of they've been polled already or not. title_search() already filters for '!s' chat trigger and cleans as needed\n",
    "    #Check extracted titles versus previously submitted ones, submit if new\n",
    "    for author,title in zip(authors,titles):\n",
    "        if title not in submitted_titles: #Check extracted titles versus previously submitted ones, submit if new\n",
    "            author_index.append(author)\n",
    "            submitted_titles.append(title)\n",
    "            print(f'{author}: {title}') #Add new title to list and add author to another list to maintain the order. Print for debugging and monitoring purposes.\n",
    "            author_html,title_html = html_ify(author),html_ify(title) #Prepare link for submission then submit via Requests module\n",
    "            submission_link = f'http://www.showbot.tv/s/add.php?title={title_html}&user={author_html}&channel={showbot_channel}&key={token}'\n",
    "            try:\n",
    "                requests.get(submission_link)\n",
    "            except TimeoutError:\n",
    "                print('Timeout error')\n",
    "            #At this point the title has been submitted. This is one complete function and API call. Confirmation via the .insert() method to send a message is a separate \n",
    "            #function incurring higher quota useage.\n",
    "            credentials = Credentials.from_authorized_user_file(\"../working_submit_token_Talia_do_not_delete.json\", scopes)\n",
    "            youtube = build_yt_obj(googleapiclient.discovery,credentials,api_service_name, api_version) #Common step in calling the API. Always have to build an object on which to call methods.\n",
    "            try:\n",
    "                response = send_chat_message(livechatid,author) #The API response in JSON format. Not technically needed but saved in case.\n",
    "                print(f'Title successfully submitted and confirmed: {author}') #Generic success message only for the console for debugging and monitoring purposes.\n",
    "            except googleapiclient.errors.HttpError: #For some reason the script can get a 403 response code error when attempting to submit a confirmation response. This block keeps the script from halting if that occurs.\n",
    "                print(f'HTTP Error: [{author}: {title}] failed to submit.')# Trying again in 3 seconds.') #This is an experimental approach to handling the 403 error by attempting to resubmit the response asynchronously.\n",
    "                # asyncio.sleep(3)\n",
    "                # try:\n",
    "                #     response = asyncio.send_async_chat_message(livechatid,author)\n",
    "                # except googleapiclient.errors.HttpError:\n",
    "                #     print(f'Submission of [{author}: {title}] failed.')\n",
    "                # print(traceback.format_exc())\n",
    "    time.sleep(5) "
   ]
  },
  {
   "cell_type": "code",
   "execution_count": 4,
   "metadata": {},
   "outputs": [
    {
     "name": "stdout",
     "output_type": "stream",
     "text": [
      "Credentials found.\n",
      "Credentials rebuilt via error.\n",
      "Please visit this URL to authorize this application: https://accounts.google.com/o/oauth2/auth?response_type=code&client_id=347817049340-9r6vmp3vflu05g81jt897f3hankoud92.apps.googleusercontent.com&redirect_uri=http%3A%2F%2Flocalhost%3A8080%2F&scope=https%3A%2F%2Fwww.googleapis.com%2Fauth%2Fyoutube.force-ssl+https%3A%2F%2Fwww.googleapis.com%2Fauth%2Fyoutube.readonly&state=7D4cyVk2aBsqFxENfOuuWEeVnmJheF&access_type=offline\n",
      "New credentials saved via function.\n"
     ]
    }
   ],
   "source": [
    "credentials = build_credentials(client_secrets_file,scopes) #Builds OAuth2 credentials object. Uses existing files or makes new one if not detected. This links the function to the account that follows the URI.\n",
    "youtube = build_yt_obj(credentials) #Common step in calling the API. Always have to build an object on which to call methods."
   ]
  },
  {
   "cell_type": "code",
   "execution_count": 13,
   "metadata": {},
   "outputs": [],
   "source": [
    "message_raw = ['TMS is a collaborative effort! ']\n",
    "i = 0\n",
    "for patreon in patreon_links:\n",
    "    i += 1\n",
    "    link = patreon_links[patreon]\n",
    "    if patreon == 'TMS':\n",
    "        message = f'Support TMS directly at {link}, '\n",
    "    elif patreon == 'Frogpants':\n",
    "        message = f'or support the whole network at: {link}. Support individuals: '\n",
    "    elif i == len(patreon_links):\n",
    "        message = f' and {patreon} at {link}.'\n",
    "    else:\n",
    "        message = f' {patreon} at {link},'\n",
    "    message_raw.append(message)"
   ]
  },
  {
   "cell_type": "code",
   "execution_count": 12,
   "metadata": {},
   "outputs": [
    {
     "name": "stdout",
     "output_type": "stream",
     "text": [
      "Collecting atproto\n",
      "  Using cached atproto-0.0.55-py3-none-any.whl.metadata (14 kB)\n",
      "Requirement already satisfied: click<9,>=8.1.3 in c:\\users\\ryura\\onedrive\\github\\frogpants_showbot\\.venv\\lib\\site-packages (from atproto) (8.1.7)\n",
      "Collecting cryptography<44,>=41.0.7 (from atproto)\n",
      "  Using cached cryptography-43.0.3-cp39-abi3-win_amd64.whl.metadata (5.4 kB)\n",
      "Collecting dnspython<3,>=2.4.0 (from atproto)\n",
      "  Using cached dnspython-2.7.0-py3-none-any.whl.metadata (5.8 kB)\n",
      "Collecting httpx<0.28.0,>=0.25.0 (from atproto)\n",
      "  Using cached httpx-0.27.2-py3-none-any.whl.metadata (7.1 kB)\n",
      "Collecting libipld<4,>=2.0.0 (from atproto)\n",
      "  Using cached libipld-3.0.0-cp312-none-win_amd64.whl.metadata (3.6 kB)\n",
      "Collecting pydantic<3,>=2.7 (from atproto)\n",
      "  Using cached pydantic-2.9.2-py3-none-any.whl.metadata (149 kB)\n",
      "Requirement already satisfied: typing-extensions<5,>=4.8.0 in c:\\users\\ryura\\onedrive\\github\\frogpants_showbot\\.venv\\lib\\site-packages (from atproto) (4.10.0)\n",
      "Collecting websockets<14,>=12 (from atproto)\n",
      "  Using cached websockets-13.1-cp312-cp312-win_amd64.whl.metadata (7.0 kB)\n",
      "Requirement already satisfied: colorama in c:\\users\\ryura\\onedrive\\github\\frogpants_showbot\\.venv\\lib\\site-packages (from click<9,>=8.1.3->atproto) (0.4.6)\n",
      "Requirement already satisfied: cffi>=1.12 in c:\\users\\ryura\\onedrive\\github\\frogpants_showbot\\.venv\\lib\\site-packages (from cryptography<44,>=41.0.7->atproto) (1.17.0)\n",
      "Collecting anyio (from httpx<0.28.0,>=0.25.0->atproto)\n",
      "  Downloading anyio-4.6.2.post1-py3-none-any.whl.metadata (4.7 kB)\n",
      "Requirement already satisfied: certifi in c:\\users\\ryura\\onedrive\\github\\frogpants_showbot\\.venv\\lib\\site-packages (from httpx<0.28.0,>=0.25.0->atproto) (2024.2.2)\n",
      "Collecting httpcore==1.* (from httpx<0.28.0,>=0.25.0->atproto)\n",
      "  Downloading httpcore-1.0.7-py3-none-any.whl.metadata (21 kB)\n",
      "Requirement already satisfied: idna in c:\\users\\ryura\\onedrive\\github\\frogpants_showbot\\.venv\\lib\\site-packages (from httpx<0.28.0,>=0.25.0->atproto) (3.6)\n",
      "Requirement already satisfied: sniffio in c:\\users\\ryura\\onedrive\\github\\frogpants_showbot\\.venv\\lib\\site-packages (from httpx<0.28.0,>=0.25.0->atproto) (1.3.1)\n",
      "Requirement already satisfied: h11<0.15,>=0.13 in c:\\users\\ryura\\onedrive\\github\\frogpants_showbot\\.venv\\lib\\site-packages (from httpcore==1.*->httpx<0.28.0,>=0.25.0->atproto) (0.14.0)\n",
      "Collecting annotated-types>=0.6.0 (from pydantic<3,>=2.7->atproto)\n",
      "  Using cached annotated_types-0.7.0-py3-none-any.whl.metadata (15 kB)\n",
      "Collecting pydantic-core==2.23.4 (from pydantic<3,>=2.7->atproto)\n",
      "  Using cached pydantic_core-2.23.4-cp312-none-win_amd64.whl.metadata (6.7 kB)\n",
      "Requirement already satisfied: pycparser in c:\\users\\ryura\\onedrive\\github\\frogpants_showbot\\.venv\\lib\\site-packages (from cffi>=1.12->cryptography<44,>=41.0.7->atproto) (2.22)\n",
      "Using cached atproto-0.0.55-py3-none-any.whl (327 kB)\n",
      "Using cached cryptography-43.0.3-cp39-abi3-win_amd64.whl (3.1 MB)\n",
      "Using cached dnspython-2.7.0-py3-none-any.whl (313 kB)\n",
      "Using cached httpx-0.27.2-py3-none-any.whl (76 kB)\n",
      "Downloading httpcore-1.0.7-py3-none-any.whl (78 kB)\n",
      "Using cached libipld-3.0.0-cp312-none-win_amd64.whl (192 kB)\n",
      "Using cached pydantic-2.9.2-py3-none-any.whl (434 kB)\n",
      "Using cached pydantic_core-2.23.4-cp312-none-win_amd64.whl (1.9 MB)\n",
      "Using cached websockets-13.1-cp312-cp312-win_amd64.whl (159 kB)\n",
      "Using cached annotated_types-0.7.0-py3-none-any.whl (13 kB)\n",
      "Downloading anyio-4.6.2.post1-py3-none-any.whl (90 kB)\n",
      "Installing collected packages: websockets, pydantic-core, libipld, httpcore, dnspython, anyio, annotated-types, pydantic, httpx, cryptography, atproto\n",
      "Successfully installed annotated-types-0.7.0 anyio-4.6.2.post1 atproto-0.0.55 cryptography-43.0.3 dnspython-2.7.0 httpcore-1.0.7 httpx-0.27.2 libipld-3.0.0 pydantic-2.9.2 pydantic-core-2.23.4 websockets-13.1\n"
     ]
    },
    {
     "name": "stderr",
     "output_type": "stream",
     "text": [
      "\n",
      "[notice] A new release of pip is available: 24.2 -> 24.3.1\n",
      "[notice] To update, run: python.exe -m pip install --upgrade pip\n"
     ]
    }
   ],
   "source": [
    "!python -m pip install atproto"
   ]
  },
  {
   "cell_type": "code",
   "execution_count": null,
   "metadata": {},
   "outputs": [],
   "source": [
    "from atproto import Client\n",
    "\n",
    "client = Client()"
   ]
  },
  {
   "cell_type": "code",
   "execution_count": 2,
   "metadata": {},
   "outputs": [
    {
     "data": {
      "text/plain": [
       "'c:\\\\Users\\\\RyuRa\\\\OneDrive\\\\Github\\\\Frogpants_Showbot'"
      ]
     },
     "execution_count": 2,
     "metadata": {},
     "output_type": "execute_result"
    }
   ],
   "source": [
    "import os\n",
    "os.getcwd()"
   ]
  },
  {
   "cell_type": "code",
   "execution_count": 6,
   "metadata": {},
   "outputs": [],
   "source": [
    "with open('../cache_pass.txt','r') as f:\n",
    "    cache_pass = f.readlines()"
   ]
  },
  {
   "cell_type": "code",
   "execution_count": null,
   "metadata": {},
   "outputs": [
    {
     "ename": "NameError",
     "evalue": "name 'client' is not defined",
     "output_type": "error",
     "traceback": [
      "\u001b[1;31m---------------------------------------------------------------------------\u001b[0m",
      "\u001b[1;31mNameError\u001b[0m                                 Traceback (most recent call last)",
      "Cell \u001b[1;32mIn[7], line 1\u001b[0m\n\u001b[1;32m----> 1\u001b[0m response \u001b[38;5;241m=\u001b[39m \u001b[43mclient\u001b[49m\u001b[38;5;241m.\u001b[39mlogin(\u001b[38;5;124m'\u001b[39m\u001b[38;5;124mTaliZorEl.bsky.social\u001b[39m\u001b[38;5;124m'\u001b[39m, \u001b[38;5;124m'\u001b[39m\u001b[38;5;124mcache_pass\u001b[39m\u001b[38;5;124m'\u001b[39m)\n",
      "\u001b[1;31mNameError\u001b[0m: name 'client' is not defined"
     ]
    }
   ],
   "source": [
    "response = client.login('TaliZorEl.bsky.social', cache_pass)"
   ]
  },
  {
   "cell_type": "code",
   "execution_count": 26,
   "metadata": {},
   "outputs": [],
   "source": [
    "import pprint"
   ]
  },
  {
   "cell_type": "code",
   "execution_count": 31,
   "metadata": {},
   "outputs": [
    {
     "name": "stdout",
     "output_type": "stream",
     "text": [
      "(\"did='did:plc:lwzxfxdwbwyjrgwpuper7lk4' handle='talizorel.bsky.social' \"\n",
      " 'associated=ProfileAssociated(chat=None, feedgens=0, labeler=False, lists=0, '\n",
      " \"starter_packs=0, py_type='app.bsky.actor.defs#profileAssociated') \"\n",
      " \"avatar='https://cdn.bsky.app/img/avatar/plain/did:plc:lwzxfxdwbwyjrgwpuper7lk4/bafkreicud3sbrvcjr7s24occmgqscuwou443aaolme5gyr7cuiwbjdbe54@jpeg' \"\n",
      " \"banner='https://cdn.bsky.app/img/banner/plain/did:plc:lwzxfxdwbwyjrgwpuper7lk4/bafkreigavjbsunhvfbdykcjqbwh5hlwczex6gmje3mgw4o35pqdaj4ardi@jpeg' \"\n",
      " \"created_at='2024-11-19T20:48:06.599Z' description='Former Research \"\n",
      " 'Neuroscientist || Current Code Monkey for Pennies || Trans || Pathologic '\n",
      " \"Gamer || Chronic TTRPGer' display_name='Talia' followers_count=0 \"\n",
      " \"follows_count=8 indexed_at='2024-11-19T21:08:34.098Z' \"\n",
      " 'joined_via_starter_pack=None labels=[] pinned_post=None posts_count=1 '\n",
      " 'viewer=ViewerState(blocked_by=False, blocking=None, blocking_by_list=None, '\n",
      " 'followed_by=None, following=None, known_followers=None, muted=False, '\n",
      " \"muted_by_list=None, py_type='app.bsky.actor.defs#viewerState') \"\n",
      " \"py_type='app.bsky.actor.defs#profileViewDetailed'\")\n"
     ]
    }
   ],
   "source": [
    "pprint.pprint(response)"
   ]
  },
  {
   "cell_type": "code",
   "execution_count": 32,
   "metadata": {},
   "outputs": [],
   "source": [
    "response = client.send_post(text=\"Well if this posts, then it means I've already figured out some of the BlueSky API and now people should be scared.\")"
   ]
  }
 ],
 "metadata": {
  "kernelspec": {
   "display_name": "Python 3",
   "language": "python",
   "name": "python3"
  },
  "language_info": {
   "codemirror_mode": {
    "name": "ipython",
    "version": 3
   },
   "file_extension": ".py",
   "mimetype": "text/x-python",
   "name": "python",
   "nbconvert_exporter": "python",
   "pygments_lexer": "ipython3",
   "version": "3.12.6"
  }
 },
 "nbformat": 4,
 "nbformat_minor": 2
}
