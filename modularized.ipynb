{
 "cells": [
  {
   "cell_type": "markdown",
   "metadata": {},
   "source": [
    "This is a document I use to separate out functions of the main script in order to troubleshoot or quickly bypass some steps. I often use this to avoid spamming chat or API requests when I want to test changes in a script without using quota credits or some other resource."
   ]
  },
  {
   "cell_type": "code",
   "execution_count": 1,
   "metadata": {},
   "outputs": [],
   "source": [
    "from funcs import *\n",
    "import requests,time\n",
    "from pprint import pprint\n",
    "showbot_channel,token = 'Frogpants','Nhrj6amcz4AqiSP6AVv5YhhQX8OhJ6wO'\n",
    "channel_id = '@ScottJohnson'\n",
    "numeric_id = 'UCIEIRz-KpYoEPnrNQuyHwJw'"
   ]
  },
  {
   "cell_type": "code",
   "execution_count": 2,
   "metadata": {},
   "outputs": [
    {
     "name": "stdout",
     "output_type": "stream",
     "text": [
      "Live stream detected.\n",
      "Live stream id: fsTfWrRMDAs\n"
     ]
    }
   ],
   "source": [
    "streamid = find_stream_id('@ScottJohnson')\n",
    "if streamid:\n",
    "    print(f'Live stream detected.\\nLive stream id: {streamid}')\n",
    "else:\n",
    "    print('No live stream found.')"
   ]
  },
  {
   "cell_type": "code",
   "execution_count": 3,
   "metadata": {},
   "outputs": [],
   "source": [
    "streamid = 'fsTfWrRMDAs'"
   ]
  },
  {
   "cell_type": "markdown",
   "metadata": {},
   "source": [
    "For testing"
   ]
  },
  {
   "cell_type": "code",
   "execution_count": null,
   "metadata": {},
   "outputs": [],
   "source": [
    "authors,messages = parse_chat(read_chat(find_chat_id(streamid)))\n",
    "for author,message in zip(authors,messages):\n",
    "    print(f'{author}: {message}')"
   ]
  },
  {
   "cell_type": "markdown",
   "metadata": {},
   "source": [
    "For titles"
   ]
  },
  {
   "cell_type": "code",
   "execution_count": null,
   "metadata": {},
   "outputs": [],
   "source": [
    "author_index,titles = title_search(read_chat(find_chat_id(streamid)))\n",
    "# for author,title in zip(authors,titles):\n",
    "#     print(f'{author}: {title}')"
   ]
  },
  {
   "cell_type": "code",
   "execution_count": 18,
   "metadata": {},
   "outputs": [],
   "source": [
    "authors_html,titles_html = [html_ify(auth) for auth in author_index],[html_ify(title) for title in titles]\n",
    "for author_html,title_html in zip(authors_html,titles_html):\n",
    "    print(f'{author_html}: {title_html}')\n",
    "    "
   ]
  },
  {
   "cell_type": "code",
   "execution_count": 13,
   "metadata": {},
   "outputs": [
    {
     "name": "stdout",
     "output_type": "stream",
     "text": [
      "Credentials found.\n"
     ]
    }
   ],
   "source": [
    "livechatid = find_chat_id(streamid)"
   ]
  },
  {
   "cell_type": "code",
   "execution_count": 6,
   "metadata": {},
   "outputs": [
    {
     "data": {
      "text/plain": [
       "'Cg0KC0xUaVRNZkxaSUNRKicKGFVDSUVJUnotS3BZb0VQbnJOUXV5SHdKdxILTFRpVE1mTFpJQ1E'"
      ]
     },
     "execution_count": 6,
     "metadata": {},
     "output_type": "execute_result"
    }
   ],
   "source": [
    "livechatid\n"
   ]
  },
  {
   "cell_type": "code",
   "execution_count": 12,
   "metadata": {},
   "outputs": [],
   "source": [
    "livechatid = 'Cg0KC3Rhb0lYcU9Udi1jKicKGFVDSUVJUnotS3BZb0VQbnJOUXV5SHdKdxILdGFvSVhxT1R2LWM'"
   ]
  },
  {
   "cell_type": "code",
   "execution_count": 6,
   "metadata": {},
   "outputs": [
    {
     "data": {
      "text/plain": [
       "'../client_secrets_file.json'"
      ]
     },
     "execution_count": 6,
     "metadata": {},
     "output_type": "execute_result"
    }
   ],
   "source": [
    "client_secrets_file"
   ]
  },
  {
   "cell_type": "code",
   "execution_count": 9,
   "metadata": {},
   "outputs": [
    {
     "name": "stdout",
     "output_type": "stream",
     "text": [
      "Titles scraped for Showbot.tv channel: Frogpants \n"
     ]
    }
   ],
   "source": [
    "author_index,submitted_titles = build_submission_history(showbot_channel)"
   ]
  },
  {
   "cell_type": "code",
   "execution_count": 10,
   "metadata": {},
   "outputs": [
    {
     "ename": "NameError",
     "evalue": "name 'authors' is not defined",
     "output_type": "error",
     "traceback": [
      "\u001b[1;31m---------------------------------------------------------------------------\u001b[0m",
      "\u001b[1;31mNameError\u001b[0m                                 Traceback (most recent call last)",
      "Cell \u001b[1;32mIn[10], line 1\u001b[0m\n\u001b[1;32m----> 1\u001b[0m \u001b[38;5;28;01mfor\u001b[39;00m author,title \u001b[38;5;129;01min\u001b[39;00m \u001b[38;5;28mzip\u001b[39m(\u001b[43mauthors\u001b[49m,titles):\n\u001b[0;32m      2\u001b[0m     \u001b[38;5;28mprint\u001b[39m(\u001b[38;5;124mf\u001b[39m\u001b[38;5;124m'\u001b[39m\u001b[38;5;132;01m{\u001b[39;00mauthor\u001b[38;5;132;01m}\u001b[39;00m\u001b[38;5;124m: \u001b[39m\u001b[38;5;132;01m{\u001b[39;00mtitle\u001b[38;5;132;01m}\u001b[39;00m\u001b[38;5;124m'\u001b[39m)\n",
      "\u001b[1;31mNameError\u001b[0m: name 'authors' is not defined"
     ]
    }
   ],
   "source": [
    "for author,title in zip(authors,titles):\n",
    "    print(f'{author}: {title}')"
   ]
  },
  {
   "cell_type": "code",
   "execution_count": 3,
   "metadata": {},
   "outputs": [],
   "source": [
    "credentials = Credentials.from_authorized_user_file(\"../working_submit_token_Talia_do_not_delete.json\", scopes)\n",
    "youtube = build_yt_obj(credentials,api_service_name, api_version,module=googleapiclient.discovery)"
   ]
  },
  {
   "cell_type": "code",
   "execution_count": 10,
   "metadata": {},
   "outputs": [
    {
     "name": "stdout",
     "output_type": "stream",
     "text": [
      "Credentials found.\n",
      "Credentials refreshed.\n",
      "New credentials saved via default flow.\n"
     ]
    },
    {
     "data": {
      "text/plain": [
       "<google.oauth2.credentials.Credentials at 0x1637de57ce0>"
      ]
     },
     "execution_count": 10,
     "metadata": {},
     "output_type": "execute_result"
    }
   ],
   "source": [
    "credentials = build_credentials(client_secrets_file,scopes,testing=True)\n",
    "credentials"
   ]
  },
  {
   "cell_type": "code",
   "execution_count": 16,
   "metadata": {},
   "outputs": [
    {
     "name": "stdout",
     "output_type": "stream",
     "text": [
      "Please visit this URL to authorize this application: https://accounts.google.com/o/oauth2/auth?response_type=code&client_id=347817049340-9r6vmp3vflu05g81jt897f3hankoud92.apps.googleusercontent.com&redirect_uri=http%3A%2F%2Flocalhost%3A58104%2F&scope=https%3A%2F%2Fwww.googleapis.com%2Fauth%2Fyoutube.force-ssl+https%3A%2F%2Fwww.googleapis.com%2Fauth%2Fyoutube.readonly&state=QKBk0bXll44SuYzoaI2JNYLwZQg7cl&access_type=offline\n"
     ]
    }
   ],
   "source": [
    "flow = google_auth_oauthlib.flow.InstalledAppFlow.from_client_secrets_file(client_secrets_file,scopes)\n",
    "credentials = flow.run_local_server(port=0)"
   ]
  },
  {
   "cell_type": "code",
   "execution_count": 3,
   "metadata": {},
   "outputs": [
    {
     "name": "stdout",
     "output_type": "stream",
     "text": [
      "Credentials found.\n"
     ]
    }
   ],
   "source": [
    "credentials = build_credentials(client_secrets_file,scopes)"
   ]
  },
  {
   "cell_type": "code",
   "execution_count": 17,
   "metadata": {},
   "outputs": [
    {
     "data": {
      "text/plain": [
       "<googleapiclient.discovery.Resource at 0x1637fbfcd10>"
      ]
     },
     "execution_count": 17,
     "metadata": {},
     "output_type": "execute_result"
    }
   ],
   "source": [
    "youtube = build_yt_obj(credentials,api_service_name, api_version,module=googleapiclient.discovery)\n",
    "youtube"
   ]
  },
  {
   "cell_type": "code",
   "execution_count": 16,
   "metadata": {},
   "outputs": [],
   "source": [
    "request = youtube.liveChatMessages().list(\n",
    "    liveChatId=livechatid,\n",
    "    part=\"snippet,authorDetails\"\n",
    ")"
   ]
  },
  {
   "cell_type": "code",
   "execution_count": 38,
   "metadata": {},
   "outputs": [],
   "source": [
    "streamid = 'a5sdsbGKz8U'"
   ]
  },
  {
   "cell_type": "code",
   "execution_count": 22,
   "metadata": {},
   "outputs": [],
   "source": [
    "channel_id = '@ScottJohnson'"
   ]
  },
  {
   "cell_type": "code",
   "execution_count": 11,
   "metadata": {},
   "outputs": [],
   "source": [
    "request = youtube.videos().list(\n",
    "    part=\"snippet,contentDetails,statistics\",\n",
    "    id=streamid\n",
    ")"
   ]
  },
  {
   "cell_type": "code",
   "execution_count": 11,
   "metadata": {},
   "outputs": [],
   "source": [
    "request = youtube.liveChatMessages().insert(part=\"snippet\",body={\"snippet\": {\"liveChatId\": livechatid,\n",
    "        \"type\": \"textMessageEvent\",\n",
    "        \"textMessageDetails\": {\n",
    "            \"messageText\": 'Awesome.'}}})"
   ]
  },
  {
   "cell_type": "code",
   "execution_count": 23,
   "metadata": {},
   "outputs": [],
   "source": [
    "request = youtube.channels().list(\n",
    "        part=\"snippet,contentDetails,statistics\",\n",
    "        id=numeric_id\n",
    "        )"
   ]
  },
  {
   "cell_type": "code",
   "execution_count": 39,
   "metadata": {},
   "outputs": [],
   "source": [
    "request = youtube.playlists().list(\n",
    "        part=\"snippet,contentDetails\",\n",
    "        channelId=numeric_id,\n",
    "        maxResults=25\n",
    "    )"
   ]
  },
  {
   "cell_type": "code",
   "execution_count": 73,
   "metadata": {},
   "outputs": [],
   "source": [
    "request = youtube.search().list(\n",
    "        part=\"snippet\",\n",
    "        maxResults=25,\n",
    "        q=\"TMS\",\n",
    "        channelId = numeric_id,\n",
    "        order='date'\n",
    "    )"
   ]
  },
  {
   "cell_type": "code",
   "execution_count": 82,
   "metadata": {},
   "outputs": [],
   "source": [
    "request = youtube.search().list(\n",
    "        part=\"snippet\",\n",
    "        maxResults=50,\n",
    "        q=\"TMS\",\n",
    "        channelId = numeric_id,\n",
    "        order='date',\n",
    "        pageToken = 'CBkQAA'\n",
    "    )\n"
   ]
  },
  {
   "cell_type": "code",
   "execution_count": 83,
   "metadata": {},
   "outputs": [],
   "source": [
    "response = request.execute()\n"
   ]
  },
  {
   "cell_type": "code",
   "execution_count": 91,
   "metadata": {},
   "outputs": [
    {
     "data": {
      "text/plain": [
       "dict_keys(['kind', 'etag', 'nextPageToken', 'regionCode', 'pageInfo', 'items'])"
      ]
     },
     "execution_count": 91,
     "metadata": {},
     "output_type": "execute_result"
    }
   ],
   "source": [
    "response.keys()"
   ]
  },
  {
   "cell_type": "code",
   "execution_count": 15,
   "metadata": {},
   "outputs": [],
   "source": [
    "with open('../token.json','w') as token:\n",
    "    token.write(credentials.to_json())"
   ]
  },
  {
   "cell_type": "code",
   "execution_count": null,
   "metadata": {},
   "outputs": [],
   "source": [
    "os.getcwd()"
   ]
  },
  {
   "cell_type": "code",
   "execution_count": 12,
   "metadata": {},
   "outputs": [],
   "source": [
    "request = youtube.liveChatMessages().insert(part=\"snippet\",body={\"snippet\": {\"liveChatId\": livechatid,\n",
    "        \"type\": \"textMessageEvent\",\n",
    "        \"textMessageDetails\": {\n",
    "            \"messageText\": confirmation_message}}})\n",
    "response = request.execute()"
   ]
  },
  {
   "cell_type": "code",
   "execution_count": 9,
   "metadata": {},
   "outputs": [
    {
     "name": "stdout",
     "output_type": "stream",
     "text": [
      "Original Token Used.\n",
      "No live chat detected, likely because the chat has ended.\n"
     ]
    }
   ],
   "source": [
    "try:\n",
    "    send_chat_message('Cg0KC3Rhb0lYcU9Udi1jKicKGFVDSUVJUnotS3BZb0VQbnJOUXV5SHdKdxILdGFvSVhxT1R2LWM','Dicks')\n",
    "except googleapiclient.errors.HttpError:\n",
    "    print('No live chat detected, likely because the chat has ended.')"
   ]
  },
  {
   "cell_type": "code",
   "execution_count": null,
   "metadata": {},
   "outputs": [],
   "source": [
    "while True:\n",
    "    authors,titles = title_search(read_chat(livechatid)) #Poll API for all chat messages, regardless of they've been polled already or not. title_search() already filters for '!s' chat trigger and cleans as needed\n",
    "    #Check extracted titles versus previously submitted ones, submit if new\n",
    "    for author,title in zip(authors,titles):\n",
    "        if title not in submitted_titles: #Check extracted titles versus previously submitted ones, submit if new\n",
    "            author_index.append(author)\n",
    "            submitted_titles.append(title)\n",
    "            print(f'{author}: {title}') #Add new title to list and add author to another list to maintain the order. Print for debugging and monitoring purposes.\n",
    "            author_html,title_html = html_ify(author),html_ify(title) #Prepare link for submission then submit via Requests module\n",
    "            submission_link = f'http://www.showbot.tv/s/add.php?title={title_html}&user={author_html}&channel={showbot_channel}&key={token}'\n",
    "            requests.get(submission_link)\n",
    "            #At this point the title has been submitted. This is one complete function and API call. Confirmation via the .insert() method to send a message is a separate \n",
    "            #function incurring higher quota useage.\n",
    "            credentials = build_credentials(client_secrets_file,scopes) #Builds OAuth2 credentials object. Uses existing files or makes new one if not detected. This links the function to the account that follows the URI.\n",
    "            youtube = build_yt_obj(googleapiclient.discovery,credentials) #Common step in calling the API. Always have to build an object on which to call methods.\n",
    "            response = send_chat_message(livechatid,author) #The API response in JSON format. Not technically needed but saved in case.\n",
    "            print(f'Title successfully submitted and confirmed: {author}') #Generic success message only for the console for debugging and monitoring purposes.\n",
    "    time.sleep(5)"
   ]
  },
  {
   "cell_type": "code",
   "execution_count": 11,
   "metadata": {},
   "outputs": [],
   "source": [
    "author_index,submitted_titles = build_submission_history(showbot_channel)"
   ]
  },
  {
   "cell_type": "code",
   "execution_count": null,
   "metadata": {},
   "outputs": [],
   "source": [
    "while True:\n",
    "    authors,titles = title_search(read_chat(livechatid)) #Poll API for all chat messages, regardless of they've been polled already or not. title_search() already filters for '!s' chat trigger and cleans as needed\n",
    "    #Check extracted titles versus previously submitted ones, submit if new\n",
    "    for author,title in zip(authors,titles):\n",
    "        if title not in submitted_titles: #Check extracted titles versus previously submitted ones, submit if new\n",
    "            author_index.append(author)\n",
    "            submitted_titles.append(title)\n",
    "            print(f'{author}: {title}') #Add new title to list and add author to another list to maintain the order. Print for debugging and monitoring purposes.\n",
    "            author_html,title_html = html_ify(author),html_ify(title) #Prepare link for submission then submit via Requests module\n",
    "            submission_link = f'http://www.showbot.tv/s/add.php?title={title_html}&user={author_html}&channel={showbot_channel}&key={token}'\n",
    "            try:\n",
    "                requests.get(submission_link)\n",
    "            except TimeoutError:\n",
    "                print('Timeout error')\n",
    "            #At this point the title has been submitted. This is one complete function and API call. Confirmation via the .insert() method to send a message is a separate \n",
    "            #function incurring higher quota useage.\n",
    "            credentials = Credentials.from_authorized_user_file(\"../working_submit_token_Talia_do_not_delete.json\", scopes)\n",
    "            youtube = build_yt_obj(googleapiclient.discovery,credentials,api_service_name, api_version) #Common step in calling the API. Always have to build an object on which to call methods.\n",
    "            try:\n",
    "                response = send_chat_message(livechatid,author) #The API response in JSON format. Not technically needed but saved in case.\n",
    "                print(f'Title successfully submitted and confirmed: {author}') #Generic success message only for the console for debugging and monitoring purposes.\n",
    "            except googleapiclient.errors.HttpError: #For some reason the script can get a 403 response code error when attempting to submit a confirmation response. This block keeps the script from halting if that occurs.\n",
    "                print(f'HTTP Error: [{author}: {title}] failed to submit.')# Trying again in 3 seconds.') #This is an experimental approach to handling the 403 error by attempting to resubmit the response asynchronously.\n",
    "                # asyncio.sleep(3)\n",
    "                # try:\n",
    "                #     response = asyncio.send_async_chat_message(livechatid,author)\n",
    "                # except googleapiclient.errors.HttpError:\n",
    "                #     print(f'Submission of [{author}: {title}] failed.')\n",
    "                # print(traceback.format_exc())\n",
    "    time.sleep(5) "
   ]
  },
  {
   "cell_type": "code",
   "execution_count": 11,
   "metadata": {},
   "outputs": [
    {
     "name": "stdout",
     "output_type": "stream",
     "text": [
      "Credentials found.\n"
     ]
    }
   ],
   "source": [
    "credentials = build_credentials(client_secrets_file,scopes) #Builds OAuth2 credentials object. Uses existing files or makes new one if not detected. This links the function to the account that follows the URI.\n",
    "youtube = build_yt_obj(credentials) #Common step in calling the API. Always have to build an object on which to call methods.\n"
   ]
  },
  {
   "cell_type": "code",
   "execution_count": 18,
   "metadata": {},
   "outputs": [],
   "source": [
    "request = youtube.liveChatMessages().insert(part=\"snippet\",body={\"snippet\": {\"liveChatId\": livechatid,\n",
    "        \"type\": \"textMessageEvent\",\n",
    "        \"textMessageDetails\": {\n",
    "        \"messageText\": \"I'm real and I'm spectacular.\"}}})"
   ]
  },
  {
   "cell_type": "code",
   "execution_count": 19,
   "metadata": {},
   "outputs": [
    {
     "name": "stdout",
     "output_type": "stream",
     "text": [
      "{'etag': 'wCWj3VwSxf4nREmHW5q5d4jj0OE',\n",
      " 'id': 'LCC.EhwKGkNJRFo0SUd5NjRrREZYYlJsQWtkTE9nZ3lB',\n",
      " 'kind': 'youtube#liveChatMessage',\n",
      " 'snippet': {'authorChannelId': 'UCe0NvetAARl8QugJHg2tnYA',\n",
      "             'displayMessage': \"I'm real and I'm spectacular.\",\n",
      "             'hasDisplayContent': True,\n",
      "             'liveChatId': 'Cg0KC2ZzVGZXclJNREFzKicKGFVDSUVJUnotS3BZb0VQbnJOUXV5SHdKdxILZnNUZldyUk1EQXM',\n",
      "             'publishedAt': '2024-11-20T17:03:16.326095+00:00',\n",
      "             'textMessageDetails': {'messageText': \"I'm real and I'm \"\n",
      "                                                   'spectacular.'},\n",
      "             'type': 'textMessageEvent'}}\n"
     ]
    }
   ],
   "source": [
    "response = request.execute()\n",
    "pprint(response)"
   ]
  },
  {
   "cell_type": "code",
   "execution_count": 4,
   "metadata": {},
   "outputs": [],
   "source": [
    "patreon_links = {\n",
    "    'TMS':'https://www.patreon.com/tms',\n",
    "    'Frogpants':'https://www.patreon.com/frogpants',\n",
    "    'Brian':'https://www.patreon.com/coverville',\n",
    "    'Biocow':'https://www.patreon.com/biocow',\n",
    "    'Talia':'https://www.patreon.com/TaliaJames'\n",
    "}"
   ]
  },
  {
   "cell_type": "code",
   "execution_count": 5,
   "metadata": {},
   "outputs": [],
   "source": [
    "message_raw = ['TMS is a collaborative effort! ']\n",
    "i = 0\n",
    "for patreon in patreon_links:\n",
    "    i += 1\n",
    "    link = patreon_links[patreon]\n",
    "    if patreon == 'TMS':\n",
    "        message = f'Support TMS directly at {link}, '\n",
    "    elif patreon == 'Frogpants':\n",
    "        message = f'or support the whole network at: {link}. Support individuals: '\n",
    "    elif i == len(patreon_links):\n",
    "        message = f' and {patreon} at {link}.'\n",
    "    else:\n",
    "        message = f' {patreon} at {link},'\n",
    "    message_raw.append(message)"
   ]
  },
  {
   "cell_type": "code",
   "execution_count": 20,
   "metadata": {},
   "outputs": [
    {
     "data": {
      "text/plain": [
       "'TMS is a collaborative effort! Support TMS directly at https://www.patreon.com/tms, or support the whole network at: https://www.patreon.com/frogpants. Support individuals:  Brian at https://www.patreon.com/coverville, Biocow at https://www.patreon.com/biocow, and Talia at https://www.patreon.com/TaliaJames.'"
      ]
     },
     "execution_count": 20,
     "metadata": {},
     "output_type": "execute_result"
    }
   ],
   "source": [
    "message_send = ''.join(message_raw)\n",
    "message_send"
   ]
  }
 ],
 "metadata": {
  "kernelspec": {
   "display_name": "Python 3",
   "language": "python",
   "name": "python3"
  },
  "language_info": {
   "codemirror_mode": {
    "name": "ipython",
    "version": 3
   },
   "file_extension": ".py",
   "mimetype": "text/x-python",
   "name": "python",
   "nbconvert_exporter": "python",
   "pygments_lexer": "ipython3",
   "version": "3.12.6"
  }
 },
 "nbformat": 4,
 "nbformat_minor": 2
}
