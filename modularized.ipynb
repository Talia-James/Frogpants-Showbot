{
 "cells": [
  {
   "cell_type": "markdown",
   "metadata": {},
   "source": [
    "This is a document I use to separate out functions of the main script in order to troubleshoot or quickly bypass some steps. I often use this to avoid spamming chat or API requests when I want to test changes in a script without using quota credits or some other resource."
   ]
  },
  {
   "cell_type": "code",
   "execution_count": 1,
   "metadata": {},
   "outputs": [],
   "source": [
    "from funcs import *\n",
    "import requests,time\n",
    "from pprint import pprint\n",
    "showbot_channel,token = 'Frogpants','Nhrj6amcz4AqiSP6AVv5YhhQX8OhJ6wO'\n",
    "channel_id = '@ScottJohnson'\n",
    "numeric_id = 'UCIEIRz-KpYoEPnrNQuyHwJw'"
   ]
  },
  {
   "cell_type": "code",
   "execution_count": 6,
   "metadata": {},
   "outputs": [
    {
     "name": "stdout",
     "output_type": "stream",
     "text": [
      "No live stream found.\n"
     ]
    }
   ],
   "source": [
    "streamid = find_stream_id('@ScottJohnson')\n",
    "if streamid:\n",
    "    print(f'Live stream detected.\\nLive stream id: {streamid}')\n",
    "else:\n",
    "    print('No live stream found.')"
   ]
  },
  {
   "cell_type": "code",
   "execution_count": 2,
   "metadata": {},
   "outputs": [],
   "source": [
    "streamid = 'O7UBd4cDnEA'"
   ]
  },
  {
   "cell_type": "markdown",
   "metadata": {},
   "source": [
    "For testing"
   ]
  },
  {
   "cell_type": "code",
   "execution_count": null,
   "metadata": {},
   "outputs": [],
   "source": [
    "authors,messages = parse_chat(read_chat(find_chat_id(streamid)))\n",
    "for author,message in zip(authors,messages):\n",
    "    print(f'{author}: {message}')"
   ]
  },
  {
   "cell_type": "markdown",
   "metadata": {},
   "source": [
    "For titles"
   ]
  },
  {
   "cell_type": "code",
   "execution_count": null,
   "metadata": {},
   "outputs": [],
   "source": [
    "author_index,titles = title_search(read_chat(find_chat_id(streamid)))\n",
    "# for author,title in zip(authors,titles):\n",
    "#     print(f'{author}: {title}')"
   ]
  },
  {
   "cell_type": "code",
   "execution_count": 18,
   "metadata": {},
   "outputs": [],
   "source": [
    "authors_html,titles_html = [html_ify(auth) for auth in author_index],[html_ify(title) for title in titles]\n",
    "for author_html,title_html in zip(authors_html,titles_html):\n",
    "    print(f'{author_html}: {title_html}')\n",
    "    "
   ]
  },
  {
   "cell_type": "code",
   "execution_count": null,
   "metadata": {},
   "outputs": [],
   "source": [
    "livechatid = find_chat_id(streamid)"
   ]
  },
  {
   "cell_type": "code",
   "execution_count": 6,
   "metadata": {},
   "outputs": [
    {
     "data": {
      "text/plain": [
       "'Cg0KC0xUaVRNZkxaSUNRKicKGFVDSUVJUnotS3BZb0VQbnJOUXV5SHdKdxILTFRpVE1mTFpJQ1E'"
      ]
     },
     "execution_count": 6,
     "metadata": {},
     "output_type": "execute_result"
    }
   ],
   "source": [
    "livechatid\n"
   ]
  },
  {
   "cell_type": "code",
   "execution_count": 12,
   "metadata": {},
   "outputs": [],
   "source": [
    "livechatid = 'Cg0KC3Rhb0lYcU9Udi1jKicKGFVDSUVJUnotS3BZb0VQbnJOUXV5SHdKdxILdGFvSVhxT1R2LWM'"
   ]
  },
  {
   "cell_type": "code",
   "execution_count": 6,
   "metadata": {},
   "outputs": [
    {
     "data": {
      "text/plain": [
       "'../client_secrets_file.json'"
      ]
     },
     "execution_count": 6,
     "metadata": {},
     "output_type": "execute_result"
    }
   ],
   "source": [
    "client_secrets_file"
   ]
  },
  {
   "cell_type": "code",
   "execution_count": 9,
   "metadata": {},
   "outputs": [
    {
     "name": "stdout",
     "output_type": "stream",
     "text": [
      "Titles scraped for Showbot.tv channel: Frogpants \n"
     ]
    }
   ],
   "source": [
    "author_index,submitted_titles = build_submission_history(showbot_channel)"
   ]
  },
  {
   "cell_type": "code",
   "execution_count": 10,
   "metadata": {},
   "outputs": [
    {
     "ename": "NameError",
     "evalue": "name 'authors' is not defined",
     "output_type": "error",
     "traceback": [
      "\u001b[1;31m---------------------------------------------------------------------------\u001b[0m",
      "\u001b[1;31mNameError\u001b[0m                                 Traceback (most recent call last)",
      "Cell \u001b[1;32mIn[10], line 1\u001b[0m\n\u001b[1;32m----> 1\u001b[0m \u001b[38;5;28;01mfor\u001b[39;00m author,title \u001b[38;5;129;01min\u001b[39;00m \u001b[38;5;28mzip\u001b[39m(\u001b[43mauthors\u001b[49m,titles):\n\u001b[0;32m      2\u001b[0m     \u001b[38;5;28mprint\u001b[39m(\u001b[38;5;124mf\u001b[39m\u001b[38;5;124m'\u001b[39m\u001b[38;5;132;01m{\u001b[39;00mauthor\u001b[38;5;132;01m}\u001b[39;00m\u001b[38;5;124m: \u001b[39m\u001b[38;5;132;01m{\u001b[39;00mtitle\u001b[38;5;132;01m}\u001b[39;00m\u001b[38;5;124m'\u001b[39m)\n",
      "\u001b[1;31mNameError\u001b[0m: name 'authors' is not defined"
     ]
    }
   ],
   "source": [
    "for author,title in zip(authors,titles):\n",
    "    print(f'{author}: {title}')"
   ]
  },
  {
   "cell_type": "code",
   "execution_count": 3,
   "metadata": {},
   "outputs": [],
   "source": [
    "credentials = Credentials.from_authorized_user_file(\"../working_submit_token_Talia_do_not_delete.json\", scopes)\n",
    "youtube = build_yt_obj(credentials,api_service_name, api_version,module=googleapiclient.discovery)"
   ]
  },
  {
   "cell_type": "code",
   "execution_count": 10,
   "metadata": {},
   "outputs": [
    {
     "name": "stdout",
     "output_type": "stream",
     "text": [
      "Credentials found.\n",
      "Credentials refreshed.\n",
      "New credentials saved via default flow.\n"
     ]
    },
    {
     "data": {
      "text/plain": [
       "<google.oauth2.credentials.Credentials at 0x1637de57ce0>"
      ]
     },
     "execution_count": 10,
     "metadata": {},
     "output_type": "execute_result"
    }
   ],
   "source": [
    "credentials = build_credentials(client_secrets_file,scopes,testing=True)\n",
    "credentials"
   ]
  },
  {
   "cell_type": "code",
   "execution_count": 16,
   "metadata": {},
   "outputs": [
    {
     "name": "stdout",
     "output_type": "stream",
     "text": [
      "Please visit this URL to authorize this application: https://accounts.google.com/o/oauth2/auth?response_type=code&client_id=347817049340-9r6vmp3vflu05g81jt897f3hankoud92.apps.googleusercontent.com&redirect_uri=http%3A%2F%2Flocalhost%3A58104%2F&scope=https%3A%2F%2Fwww.googleapis.com%2Fauth%2Fyoutube.force-ssl+https%3A%2F%2Fwww.googleapis.com%2Fauth%2Fyoutube.readonly&state=QKBk0bXll44SuYzoaI2JNYLwZQg7cl&access_type=offline\n"
     ]
    }
   ],
   "source": [
    "flow = google_auth_oauthlib.flow.InstalledAppFlow.from_client_secrets_file(client_secrets_file,scopes)\n",
    "credentials = flow.run_local_server(port=0)"
   ]
  },
  {
   "cell_type": "code",
   "execution_count": 3,
   "metadata": {},
   "outputs": [
    {
     "name": "stdout",
     "output_type": "stream",
     "text": [
      "Credentials found.\n"
     ]
    }
   ],
   "source": [
    "credentials = build_credentials(client_secrets_file,scopes)"
   ]
  },
  {
   "cell_type": "code",
   "execution_count": 17,
   "metadata": {},
   "outputs": [
    {
     "data": {
      "text/plain": [
       "<googleapiclient.discovery.Resource at 0x1637fbfcd10>"
      ]
     },
     "execution_count": 17,
     "metadata": {},
     "output_type": "execute_result"
    }
   ],
   "source": [
    "youtube = build_yt_obj(credentials,api_service_name, api_version,module=googleapiclient.discovery)\n",
    "youtube"
   ]
  },
  {
   "cell_type": "code",
   "execution_count": 16,
   "metadata": {},
   "outputs": [],
   "source": [
    "request = youtube.liveChatMessages().list(\n",
    "    liveChatId=livechatid,\n",
    "    part=\"snippet,authorDetails\"\n",
    ")"
   ]
  },
  {
   "cell_type": "code",
   "execution_count": 38,
   "metadata": {},
   "outputs": [],
   "source": [
    "streamid = 'a5sdsbGKz8U'"
   ]
  },
  {
   "cell_type": "code",
   "execution_count": 22,
   "metadata": {},
   "outputs": [],
   "source": [
    "channel_id = '@ScottJohnson'"
   ]
  },
  {
   "cell_type": "code",
   "execution_count": 11,
   "metadata": {},
   "outputs": [],
   "source": [
    "request = youtube.videos().list(\n",
    "    part=\"snippet,contentDetails,statistics\",\n",
    "    id=streamid\n",
    ")"
   ]
  },
  {
   "cell_type": "code",
   "execution_count": 11,
   "metadata": {},
   "outputs": [],
   "source": [
    "request = youtube.liveChatMessages().insert(part=\"snippet\",body={\"snippet\": {\"liveChatId\": livechatid,\n",
    "        \"type\": \"textMessageEvent\",\n",
    "        \"textMessageDetails\": {\n",
    "            \"messageText\": 'Awesome.'}}})"
   ]
  },
  {
   "cell_type": "code",
   "execution_count": 23,
   "metadata": {},
   "outputs": [],
   "source": [
    "request = youtube.channels().list(\n",
    "        part=\"snippet,contentDetails,statistics\",\n",
    "        id=numeric_id\n",
    "        )"
   ]
  },
  {
   "cell_type": "code",
   "execution_count": 39,
   "metadata": {},
   "outputs": [],
   "source": [
    "request = youtube.playlists().list(\n",
    "        part=\"snippet,contentDetails\",\n",
    "        channelId=numeric_id,\n",
    "        maxResults=25\n",
    "    )"
   ]
  },
  {
   "cell_type": "code",
   "execution_count": 73,
   "metadata": {},
   "outputs": [],
   "source": [
    "request = youtube.search().list(\n",
    "        part=\"snippet\",\n",
    "        maxResults=25,\n",
    "        q=\"TMS\",\n",
    "        channelId = numeric_id,\n",
    "        order='date'\n",
    "    )"
   ]
  },
  {
   "cell_type": "code",
   "execution_count": 82,
   "metadata": {},
   "outputs": [],
   "source": [
    "request = youtube.search().list(\n",
    "        part=\"snippet\",\n",
    "        maxResults=50,\n",
    "        q=\"TMS\",\n",
    "        channelId = numeric_id,\n",
    "        order='date',\n",
    "        pageToken = 'CBkQAA'\n",
    "    )\n"
   ]
  },
  {
   "cell_type": "code",
   "execution_count": 83,
   "metadata": {},
   "outputs": [],
   "source": [
    "response = request.execute()\n"
   ]
  },
  {
   "cell_type": "code",
   "execution_count": 84,
   "metadata": {},
   "outputs": [
    {
     "data": {
      "text/plain": [
       "{'kind': 'youtube#searchListResponse',\n",
       " 'etag': 'ftVpMcfX1dFZN16NSYv9wHfoZlc',\n",
       " 'nextPageToken': 'CDIQAA',\n",
       " 'prevPageToken': 'CBkQAQ',\n",
       " 'regionCode': 'CA',\n",
       " 'pageInfo': {'totalResults': 6899, 'resultsPerPage': 25},\n",
       " 'items': [{'kind': 'youtube#searchResult',\n",
       "   'etag': '4v6KGRITYS77vuK1WMpHNp5Er60',\n",
       "   'id': {'kind': 'youtube#video', 'videoId': 'aOG08D2mWNA'},\n",
       "   'snippet': {'publishedAt': '2024-09-12T17:58:45Z',\n",
       "    'channelId': 'UCIEIRz-KpYoEPnrNQuyHwJw',\n",
       "    'title': 'TMS 2705: Paint Your Head',\n",
       "    'description': \"Dueling CAPSLOCK. Monibot. Haitian Cat Recipes. My legs are dead, Gym. Brian's Bobble Bump. Whittling: the Original 3D ...\",\n",
       "    'thumbnails': {'default': {'url': 'https://i.ytimg.com/vi/aOG08D2mWNA/default.jpg',\n",
       "      'width': 120,\n",
       "      'height': 90},\n",
       "     'medium': {'url': 'https://i.ytimg.com/vi/aOG08D2mWNA/mqdefault.jpg',\n",
       "      'width': 320,\n",
       "      'height': 180},\n",
       "     'high': {'url': 'https://i.ytimg.com/vi/aOG08D2mWNA/hqdefault.jpg',\n",
       "      'width': 480,\n",
       "      'height': 360}},\n",
       "    'channelTitle': 'Scott Johnson',\n",
       "    'liveBroadcastContent': 'none',\n",
       "    'publishTime': '2024-09-12T17:58:45Z'}},\n",
       "  {'kind': 'youtube#searchResult',\n",
       "   'etag': 'i1d3QR7z0tj3tx2GiRAzUQAHJvg',\n",
       "   'id': {'kind': 'youtube#video', 'videoId': 'tGpxDZ_ZIDs'},\n",
       "   'snippet': {'publishedAt': '2024-09-11T17:50:36Z',\n",
       "    'channelId': 'UCIEIRz-KpYoEPnrNQuyHwJw',\n",
       "    'title': 'TMS 2704: Spork Talk',\n",
       "    'description': \"Garlic Aioli Borealis. Team Dunawamy. Kim Spores Johnson. I forgot it's Remembrance Day. I got disoriented when I went to ...\",\n",
       "    'thumbnails': {'default': {'url': 'https://i.ytimg.com/vi/tGpxDZ_ZIDs/default.jpg',\n",
       "      'width': 120,\n",
       "      'height': 90},\n",
       "     'medium': {'url': 'https://i.ytimg.com/vi/tGpxDZ_ZIDs/mqdefault.jpg',\n",
       "      'width': 320,\n",
       "      'height': 180},\n",
       "     'high': {'url': 'https://i.ytimg.com/vi/tGpxDZ_ZIDs/hqdefault.jpg',\n",
       "      'width': 480,\n",
       "      'height': 360}},\n",
       "    'channelTitle': 'Scott Johnson',\n",
       "    'liveBroadcastContent': 'none',\n",
       "    'publishTime': '2024-09-11T17:50:36Z'}},\n",
       "  {'kind': 'youtube#searchResult',\n",
       "   'etag': '3Yo_SQdYxwkBd-bMlG-g_YwTlsQ',\n",
       "   'id': {'kind': 'youtube#video', 'videoId': 'aQaPi7b22U8'},\n",
       "   'snippet': {'publishedAt': '2024-09-10T17:39:03Z',\n",
       "    'channelId': 'UCIEIRz-KpYoEPnrNQuyHwJw',\n",
       "    'title': 'TMS 2703: Taylor Sweat',\n",
       "    'description': \"Screaming Animal Farm. Foldable Beef. Non Consensual Camel Massage. Find Nick, He'll Lick It. Eating Half a Chicken I Found.\",\n",
       "    'thumbnails': {'default': {'url': 'https://i.ytimg.com/vi/aQaPi7b22U8/default.jpg',\n",
       "      'width': 120,\n",
       "      'height': 90},\n",
       "     'medium': {'url': 'https://i.ytimg.com/vi/aQaPi7b22U8/mqdefault.jpg',\n",
       "      'width': 320,\n",
       "      'height': 180},\n",
       "     'high': {'url': 'https://i.ytimg.com/vi/aQaPi7b22U8/hqdefault.jpg',\n",
       "      'width': 480,\n",
       "      'height': 360}},\n",
       "    'channelTitle': 'Scott Johnson',\n",
       "    'liveBroadcastContent': 'none',\n",
       "    'publishTime': '2024-09-10T17:39:03Z'}},\n",
       "  {'kind': 'youtube#searchResult',\n",
       "   'etag': '7qfdq_JpSrTXsU3C7e3sIUvCHqA',\n",
       "   'id': {'kind': 'youtube#video', 'videoId': 'CsG_het0cdM'},\n",
       "   'snippet': {'publishedAt': '2024-09-09T16:56:50Z',\n",
       "    'channelId': 'UCIEIRz-KpYoEPnrNQuyHwJw',\n",
       "    'title': 'TMS 2702: Friendsville',\n",
       "    'description': \"The Orgs of Orgrimar. Squirt a Zunecast. Interrobang - I'll ask ya, then I'll Bang ya. It Got Me In The Cissy Chute. Achewillow with ...\",\n",
       "    'thumbnails': {'default': {'url': 'https://i.ytimg.com/vi/CsG_het0cdM/default.jpg',\n",
       "      'width': 120,\n",
       "      'height': 90},\n",
       "     'medium': {'url': 'https://i.ytimg.com/vi/CsG_het0cdM/mqdefault.jpg',\n",
       "      'width': 320,\n",
       "      'height': 180},\n",
       "     'high': {'url': 'https://i.ytimg.com/vi/CsG_het0cdM/hqdefault.jpg',\n",
       "      'width': 480,\n",
       "      'height': 360}},\n",
       "    'channelTitle': 'Scott Johnson',\n",
       "    'liveBroadcastContent': 'none',\n",
       "    'publishTime': '2024-09-09T16:56:50Z'}},\n",
       "  {'kind': 'youtube#searchResult',\n",
       "   'etag': 'IC4-zOVrKUEpxt4fZR7ZUNsFcgA',\n",
       "   'id': {'kind': 'youtube#video', 'videoId': 'bY3dtf7McW4'},\n",
       "   'snippet': {'publishedAt': '2024-09-05T17:41:55Z',\n",
       "    'channelId': 'UCIEIRz-KpYoEPnrNQuyHwJw',\n",
       "    'title': 'TMS 2701: Bill &amp; Ted Go To Hell',\n",
       "    'description': 'We Saw This and Hated It. Penis von Lesbian. Zoe does WHAAAAAAAT. Bike Immunity. SKIM-podcaster gets skimmed.',\n",
       "    'thumbnails': {'default': {'url': 'https://i.ytimg.com/vi/bY3dtf7McW4/default.jpg',\n",
       "      'width': 120,\n",
       "      'height': 90},\n",
       "     'medium': {'url': 'https://i.ytimg.com/vi/bY3dtf7McW4/mqdefault.jpg',\n",
       "      'width': 320,\n",
       "      'height': 180},\n",
       "     'high': {'url': 'https://i.ytimg.com/vi/bY3dtf7McW4/hqdefault.jpg',\n",
       "      'width': 480,\n",
       "      'height': 360}},\n",
       "    'channelTitle': 'Scott Johnson',\n",
       "    'liveBroadcastContent': 'none',\n",
       "    'publishTime': '2024-09-05T17:41:55Z'}},\n",
       "  {'kind': 'youtube#searchResult',\n",
       "   'etag': 'z_I-dyW8gh9Bw8kr1NSmVZahIvM',\n",
       "   'id': {'kind': 'youtube#video', 'videoId': '-0HdXarA5Pk'},\n",
       "   'snippet': {'publishedAt': '2024-09-04T18:06:31Z',\n",
       "    'channelId': 'UCIEIRz-KpYoEPnrNQuyHwJw',\n",
       "    'title': 'TMS 2700: Let My Chickens Cake',\n",
       "    'description': 'All the whittling. Satanic Pecan. Crispy Pickles By the Stove. Tech Time with Little Tommy Merritt. Wasp-Plaining. Mom, Thanks ...',\n",
       "    'thumbnails': {'default': {'url': 'https://i.ytimg.com/vi/-0HdXarA5Pk/default.jpg',\n",
       "      'width': 120,\n",
       "      'height': 90},\n",
       "     'medium': {'url': 'https://i.ytimg.com/vi/-0HdXarA5Pk/mqdefault.jpg',\n",
       "      'width': 320,\n",
       "      'height': 180},\n",
       "     'high': {'url': 'https://i.ytimg.com/vi/-0HdXarA5Pk/hqdefault.jpg',\n",
       "      'width': 480,\n",
       "      'height': 360}},\n",
       "    'channelTitle': 'Scott Johnson',\n",
       "    'liveBroadcastContent': 'none',\n",
       "    'publishTime': '2024-09-04T18:06:31Z'}},\n",
       "  {'kind': 'youtube#searchResult',\n",
       "   'etag': 'cOVxSZDLc1VCLUlUggWYVyLVYWA',\n",
       "   'id': {'kind': 'youtube#video', 'videoId': 'lLszz8Hd7dU'},\n",
       "   'snippet': {'publishedAt': '2024-09-03T16:56:00Z',\n",
       "    'channelId': 'UCIEIRz-KpYoEPnrNQuyHwJw',\n",
       "    'title': 'TMS 2699: Big Potato Energy',\n",
       "    'description': 'Red On-Air Broncos. Fried Potato Root. Coke Adjacent. Wee Ball of Chicken. You Get NO Rest, NO Peace & NO Lt Yar! Multiple ...',\n",
       "    'thumbnails': {'default': {'url': 'https://i.ytimg.com/vi/lLszz8Hd7dU/default.jpg',\n",
       "      'width': 120,\n",
       "      'height': 90},\n",
       "     'medium': {'url': 'https://i.ytimg.com/vi/lLszz8Hd7dU/mqdefault.jpg',\n",
       "      'width': 320,\n",
       "      'height': 180},\n",
       "     'high': {'url': 'https://i.ytimg.com/vi/lLszz8Hd7dU/hqdefault.jpg',\n",
       "      'width': 480,\n",
       "      'height': 360}},\n",
       "    'channelTitle': 'Scott Johnson',\n",
       "    'liveBroadcastContent': 'none',\n",
       "    'publishTime': '2024-09-03T16:56:00Z'}},\n",
       "  {'kind': 'youtube#searchResult',\n",
       "   'etag': 'w4r8C2z2LUhIc1YlmPKtTG1oF2A',\n",
       "   'id': {'kind': 'youtube#video', 'videoId': 'GmMhTMrep30'},\n",
       "   'snippet': {'publishedAt': '2024-08-29T17:30:03Z',\n",
       "    'channelId': 'UCIEIRz-KpYoEPnrNQuyHwJw',\n",
       "    'title': 'TMS 2698: Needa Person',\n",
       "    'description': 'Skateboard for the Lord. Is it Too Early to get a Sand Clamwich. The Shape of Coke Zero. BladeAlienPredatorRunner. Fans of ...',\n",
       "    'thumbnails': {'default': {'url': 'https://i.ytimg.com/vi/GmMhTMrep30/default.jpg',\n",
       "      'width': 120,\n",
       "      'height': 90},\n",
       "     'medium': {'url': 'https://i.ytimg.com/vi/GmMhTMrep30/mqdefault.jpg',\n",
       "      'width': 320,\n",
       "      'height': 180},\n",
       "     'high': {'url': 'https://i.ytimg.com/vi/GmMhTMrep30/hqdefault.jpg',\n",
       "      'width': 480,\n",
       "      'height': 360}},\n",
       "    'channelTitle': 'Scott Johnson',\n",
       "    'liveBroadcastContent': 'none',\n",
       "    'publishTime': '2024-08-29T17:30:03Z'}},\n",
       "  {'kind': 'youtube#searchResult',\n",
       "   'etag': 'JJF6YSzsKdox_DkXwDNfTt4XEZY',\n",
       "   'id': {'kind': 'youtube#video', 'videoId': 'FCvGVT89KaE'},\n",
       "   'snippet': {'publishedAt': '2024-08-28T17:45:02Z',\n",
       "    'channelId': 'UCIEIRz-KpYoEPnrNQuyHwJw',\n",
       "    'title': 'TMS 2697: Crap Carp',\n",
       "    'description': \"I Sing'd and was Dinged. Hardcore Teet. That Movie Was Bad Meat In My Sandwich. Suzanne Vague. Sticking to the Gig.\",\n",
       "    'thumbnails': {'default': {'url': 'https://i.ytimg.com/vi/FCvGVT89KaE/default.jpg',\n",
       "      'width': 120,\n",
       "      'height': 90},\n",
       "     'medium': {'url': 'https://i.ytimg.com/vi/FCvGVT89KaE/mqdefault.jpg',\n",
       "      'width': 320,\n",
       "      'height': 180},\n",
       "     'high': {'url': 'https://i.ytimg.com/vi/FCvGVT89KaE/hqdefault.jpg',\n",
       "      'width': 480,\n",
       "      'height': 360}},\n",
       "    'channelTitle': 'Scott Johnson',\n",
       "    'liveBroadcastContent': 'none',\n",
       "    'publishTime': '2024-08-28T17:45:02Z'}},\n",
       "  {'kind': 'youtube#searchResult',\n",
       "   'etag': 'xjBmeHOBF9ZIEyU_l96kun30z04',\n",
       "   'id': {'kind': 'youtube#video', 'videoId': 'zicr6iLlqqI'},\n",
       "   'snippet': {'publishedAt': '2024-08-27T17:09:16Z',\n",
       "    'channelId': 'UCIEIRz-KpYoEPnrNQuyHwJw',\n",
       "    'title': 'TMS 2696: Rant Appropriate',\n",
       "    'description': \"Boner Pill Sushi. Floor Fries. Just for Cosplay for Men. It's Morning Somewhere. Country Music Senior Moment. Then you shall ...\",\n",
       "    'thumbnails': {'default': {'url': 'https://i.ytimg.com/vi/zicr6iLlqqI/default.jpg',\n",
       "      'width': 120,\n",
       "      'height': 90},\n",
       "     'medium': {'url': 'https://i.ytimg.com/vi/zicr6iLlqqI/mqdefault.jpg',\n",
       "      'width': 320,\n",
       "      'height': 180},\n",
       "     'high': {'url': 'https://i.ytimg.com/vi/zicr6iLlqqI/hqdefault.jpg',\n",
       "      'width': 480,\n",
       "      'height': 360}},\n",
       "    'channelTitle': 'Scott Johnson',\n",
       "    'liveBroadcastContent': 'none',\n",
       "    'publishTime': '2024-08-27T17:09:16Z'}},\n",
       "  {'kind': 'youtube#searchResult',\n",
       "   'etag': 'tdl1uKjSqLYr0eKUY4WFwLPvxWQ',\n",
       "   'id': {'kind': 'youtube#video', 'videoId': 'yJYI__XIx_0'},\n",
       "   'snippet': {'publishedAt': '2024-08-26T16:41:04Z',\n",
       "    'channelId': 'UCIEIRz-KpYoEPnrNQuyHwJw',\n",
       "    'title': 'TMS 2695: Just Wung It',\n",
       "    'description': \"Star Search Is Processed Cheeeeeeeeeeeeeeeeeeeeeeeeeeeeeeeese! Ending with the Starter. What's in your Morgan Wallet?\",\n",
       "    'thumbnails': {'default': {'url': 'https://i.ytimg.com/vi/yJYI__XIx_0/default.jpg',\n",
       "      'width': 120,\n",
       "      'height': 90},\n",
       "     'medium': {'url': 'https://i.ytimg.com/vi/yJYI__XIx_0/mqdefault.jpg',\n",
       "      'width': 320,\n",
       "      'height': 180},\n",
       "     'high': {'url': 'https://i.ytimg.com/vi/yJYI__XIx_0/hqdefault.jpg',\n",
       "      'width': 480,\n",
       "      'height': 360}},\n",
       "    'channelTitle': 'Scott Johnson',\n",
       "    'liveBroadcastContent': 'none',\n",
       "    'publishTime': '2024-08-26T16:41:04Z'}},\n",
       "  {'kind': 'youtube#searchResult',\n",
       "   'etag': 'fnFOhy-2DXV87W69Q37mGlDeQbE',\n",
       "   'id': {'kind': 'youtube#video', 'videoId': 'byjHz-fINEk'},\n",
       "   'snippet': {'publishedAt': '2024-08-22T17:16:07Z',\n",
       "    'channelId': 'UCIEIRz-KpYoEPnrNQuyHwJw',\n",
       "    'title': 'TMS 2694: Thai Land',\n",
       "    'description': 'Scissoring flights. Thairana Grande. Brian Ibbott, seniors bracket arcade tournament. Boning 747. Wear Your Safety Diaper ...',\n",
       "    'thumbnails': {'default': {'url': 'https://i.ytimg.com/vi/byjHz-fINEk/default.jpg',\n",
       "      'width': 120,\n",
       "      'height': 90},\n",
       "     'medium': {'url': 'https://i.ytimg.com/vi/byjHz-fINEk/mqdefault.jpg',\n",
       "      'width': 320,\n",
       "      'height': 180},\n",
       "     'high': {'url': 'https://i.ytimg.com/vi/byjHz-fINEk/hqdefault.jpg',\n",
       "      'width': 480,\n",
       "      'height': 360}},\n",
       "    'channelTitle': 'Scott Johnson',\n",
       "    'liveBroadcastContent': 'none',\n",
       "    'publishTime': '2024-08-22T17:16:07Z'}},\n",
       "  {'kind': 'youtube#searchResult',\n",
       "   'etag': '3AcUmpsmIFBlOZjox-LIhDtyWzs',\n",
       "   'id': {'kind': 'youtube#video', 'videoId': 'bgvgq1ZfQDY'},\n",
       "   'snippet': {'publishedAt': '2024-08-21T17:50:09Z',\n",
       "    'channelId': 'UCIEIRz-KpYoEPnrNQuyHwJw',\n",
       "    'title': 'TMS 2693: The Dick Bees',\n",
       "    'description': 'A brush with GOATness. The Barracuda People. The Wailin Jennies. Really into Procreating. Salt N Peppa and maybe some ...',\n",
       "    'thumbnails': {'default': {'url': 'https://i.ytimg.com/vi/bgvgq1ZfQDY/default.jpg',\n",
       "      'width': 120,\n",
       "      'height': 90},\n",
       "     'medium': {'url': 'https://i.ytimg.com/vi/bgvgq1ZfQDY/mqdefault.jpg',\n",
       "      'width': 320,\n",
       "      'height': 180},\n",
       "     'high': {'url': 'https://i.ytimg.com/vi/bgvgq1ZfQDY/hqdefault.jpg',\n",
       "      'width': 480,\n",
       "      'height': 360}},\n",
       "    'channelTitle': 'Scott Johnson',\n",
       "    'liveBroadcastContent': 'none',\n",
       "    'publishTime': '2024-08-21T17:50:09Z'}},\n",
       "  {'kind': 'youtube#searchResult',\n",
       "   'etag': 'SGusufK6KudF2HsfP1hi7H0A3ws',\n",
       "   'id': {'kind': 'youtube#video', 'videoId': 'Boa0SIDAf_w'},\n",
       "   'snippet': {'publishedAt': '2024-08-20T17:10:44Z',\n",
       "    'channelId': 'UCIEIRz-KpYoEPnrNQuyHwJw',\n",
       "    'title': 'TMS 2692: Bolivian Nose Candy',\n",
       "    'description': 'Vamposer. Palm facing. Do Evil On Your Own Time. CroonchyStars...BorkBork! Raviolo. Knife-Splaining. (v) I Often Wake Up To ...',\n",
       "    'thumbnails': {'default': {'url': 'https://i.ytimg.com/vi/Boa0SIDAf_w/default.jpg',\n",
       "      'width': 120,\n",
       "      'height': 90},\n",
       "     'medium': {'url': 'https://i.ytimg.com/vi/Boa0SIDAf_w/mqdefault.jpg',\n",
       "      'width': 320,\n",
       "      'height': 180},\n",
       "     'high': {'url': 'https://i.ytimg.com/vi/Boa0SIDAf_w/hqdefault.jpg',\n",
       "      'width': 480,\n",
       "      'height': 360}},\n",
       "    'channelTitle': 'Scott Johnson',\n",
       "    'liveBroadcastContent': 'none',\n",
       "    'publishTime': '2024-08-20T17:10:44Z'}},\n",
       "  {'kind': 'youtube#searchResult',\n",
       "   'etag': 'EMnqOlg3U8gfL_WM-uwyzPiJIhE',\n",
       "   'id': {'kind': 'youtube#video', 'videoId': 'Q6OJ5Z4jTZA'},\n",
       "   'snippet': {'publishedAt': '2024-08-19T17:11:16Z',\n",
       "    'channelId': 'UCIEIRz-KpYoEPnrNQuyHwJw',\n",
       "    'title': 'TMS',\n",
       "    'description': '',\n",
       "    'thumbnails': {'default': {'url': 'https://i.ytimg.com/vi/Q6OJ5Z4jTZA/default.jpg',\n",
       "      'width': 120,\n",
       "      'height': 90},\n",
       "     'medium': {'url': 'https://i.ytimg.com/vi/Q6OJ5Z4jTZA/mqdefault.jpg',\n",
       "      'width': 320,\n",
       "      'height': 180},\n",
       "     'high': {'url': 'https://i.ytimg.com/vi/Q6OJ5Z4jTZA/hqdefault.jpg',\n",
       "      'width': 480,\n",
       "      'height': 360}},\n",
       "    'channelTitle': 'Scott Johnson',\n",
       "    'liveBroadcastContent': 'none',\n",
       "    'publishTime': '2024-08-19T17:11:16Z'}},\n",
       "  {'kind': 'youtube#searchResult',\n",
       "   'etag': 'ts1YKzhRdT_jHDDQWtvpkF448hY',\n",
       "   'id': {'kind': 'youtube#video', 'videoId': 'g_9MBCN2Cp4'},\n",
       "   'snippet': {'publishedAt': '2024-08-15T17:33:35Z',\n",
       "    'channelId': 'UCIEIRz-KpYoEPnrNQuyHwJw',\n",
       "    'title': 'TMS 2690: Plushy Facehugger',\n",
       "    'description': \"Stinky Kid Waffle Pants. Asian don't raisin. Dessert Ramen. Great Joy Nub. Bright lamp aging. Aspirin zombies. inconvenient ...\",\n",
       "    'thumbnails': {'default': {'url': 'https://i.ytimg.com/vi/g_9MBCN2Cp4/default.jpg',\n",
       "      'width': 120,\n",
       "      'height': 90},\n",
       "     'medium': {'url': 'https://i.ytimg.com/vi/g_9MBCN2Cp4/mqdefault.jpg',\n",
       "      'width': 320,\n",
       "      'height': 180},\n",
       "     'high': {'url': 'https://i.ytimg.com/vi/g_9MBCN2Cp4/hqdefault.jpg',\n",
       "      'width': 480,\n",
       "      'height': 360}},\n",
       "    'channelTitle': 'Scott Johnson',\n",
       "    'liveBroadcastContent': 'none',\n",
       "    'publishTime': '2024-08-15T17:33:35Z'}},\n",
       "  {'kind': 'youtube#searchResult',\n",
       "   'etag': '_ZTkk8vhHFAAoq_UkcRCFhxcGPc',\n",
       "   'id': {'kind': 'youtube#video', 'videoId': 'wCxispyHxHA'},\n",
       "   'snippet': {'publishedAt': '2024-08-14T18:11:12Z',\n",
       "    'channelId': 'UCIEIRz-KpYoEPnrNQuyHwJw',\n",
       "    'title': 'TMS 2689: Amazing Underpants',\n",
       "    'description': 'Pushing a Johnson. Third Monday. Popcorn Ass Movie. He Knows Where that Butter Goes. Shift+Fart. Toasty Michael Clark ...',\n",
       "    'thumbnails': {'default': {'url': 'https://i.ytimg.com/vi/wCxispyHxHA/default.jpg',\n",
       "      'width': 120,\n",
       "      'height': 90},\n",
       "     'medium': {'url': 'https://i.ytimg.com/vi/wCxispyHxHA/mqdefault.jpg',\n",
       "      'width': 320,\n",
       "      'height': 180},\n",
       "     'high': {'url': 'https://i.ytimg.com/vi/wCxispyHxHA/hqdefault.jpg',\n",
       "      'width': 480,\n",
       "      'height': 360}},\n",
       "    'channelTitle': 'Scott Johnson',\n",
       "    'liveBroadcastContent': 'none',\n",
       "    'publishTime': '2024-08-14T18:11:12Z'}},\n",
       "  {'kind': 'youtube#searchResult',\n",
       "   'etag': 'XC3yG4jUhsZh9JI1jwAZwSUHwXQ',\n",
       "   'id': {'kind': 'youtube#video', 'videoId': 'GvSiHDcmWgc'},\n",
       "   'snippet': {'publishedAt': '2024-08-08T18:44:51Z',\n",
       "    'channelId': 'UCIEIRz-KpYoEPnrNQuyHwJw',\n",
       "    'title': 'TMS 2688: Ghost Plumbers',\n",
       "    'description': \"You'll get NO long show, NO Wendi, and NO Lieutenant Yar! Battle Dildos. This Baby Valley Is Uncanny. Thou Shalt Not Look.\",\n",
       "    'thumbnails': {'default': {'url': 'https://i.ytimg.com/vi/GvSiHDcmWgc/default.jpg',\n",
       "      'width': 120,\n",
       "      'height': 90},\n",
       "     'medium': {'url': 'https://i.ytimg.com/vi/GvSiHDcmWgc/mqdefault.jpg',\n",
       "      'width': 320,\n",
       "      'height': 180},\n",
       "     'high': {'url': 'https://i.ytimg.com/vi/GvSiHDcmWgc/hqdefault.jpg',\n",
       "      'width': 480,\n",
       "      'height': 360}},\n",
       "    'channelTitle': 'Scott Johnson',\n",
       "    'liveBroadcastContent': 'none',\n",
       "    'publishTime': '2024-08-08T18:44:51Z'}},\n",
       "  {'kind': 'youtube#searchResult',\n",
       "   'etag': '9qr6FOVwOWIhTCzKqR0RppY0hMk',\n",
       "   'id': {'kind': 'youtube#video', 'videoId': '2WaxZ8QKiyc'},\n",
       "   'snippet': {'publishedAt': '2024-08-07T17:34:04Z',\n",
       "    'channelId': 'UCIEIRz-KpYoEPnrNQuyHwJw',\n",
       "    'title': 'TMS 2687: The Tolbert Signal',\n",
       "    'description': \"Yup, now it's decorative. Vampire Humperdinck. Tinker Tailor Tuber Style. I Don't Trust SSDeeeeeeeeeeeeeeeeeeeeeeeees.\",\n",
       "    'thumbnails': {'default': {'url': 'https://i.ytimg.com/vi/2WaxZ8QKiyc/default.jpg',\n",
       "      'width': 120,\n",
       "      'height': 90},\n",
       "     'medium': {'url': 'https://i.ytimg.com/vi/2WaxZ8QKiyc/mqdefault.jpg',\n",
       "      'width': 320,\n",
       "      'height': 180},\n",
       "     'high': {'url': 'https://i.ytimg.com/vi/2WaxZ8QKiyc/hqdefault.jpg',\n",
       "      'width': 480,\n",
       "      'height': 360}},\n",
       "    'channelTitle': 'Scott Johnson',\n",
       "    'liveBroadcastContent': 'none',\n",
       "    'publishTime': '2024-08-07T17:34:04Z'}},\n",
       "  {'kind': 'youtube#searchResult',\n",
       "   'etag': 'Umi6SsF_Z3J1QFyZKQUqOoZf0Gw',\n",
       "   'id': {'kind': 'youtube#video', 'videoId': '_JpCxCAkwf0'},\n",
       "   'snippet': {'publishedAt': '2024-08-06T17:04:43Z',\n",
       "    'channelId': 'UCIEIRz-KpYoEPnrNQuyHwJw',\n",
       "    'title': 'TMS 2686: Stephen Stealgull',\n",
       "    'description': \"Chum Nipples. Wake Up! Scott Will Never Do Another Makeup! Crabs Chasing Amy. I Don't Like Omega THREEEEEEE!!! Dinged ...\",\n",
       "    'thumbnails': {'default': {'url': 'https://i.ytimg.com/vi/_JpCxCAkwf0/default.jpg',\n",
       "      'width': 120,\n",
       "      'height': 90},\n",
       "     'medium': {'url': 'https://i.ytimg.com/vi/_JpCxCAkwf0/mqdefault.jpg',\n",
       "      'width': 320,\n",
       "      'height': 180},\n",
       "     'high': {'url': 'https://i.ytimg.com/vi/_JpCxCAkwf0/hqdefault.jpg',\n",
       "      'width': 480,\n",
       "      'height': 360}},\n",
       "    'channelTitle': 'Scott Johnson',\n",
       "    'liveBroadcastContent': 'none',\n",
       "    'publishTime': '2024-08-06T17:04:43Z'}},\n",
       "  {'kind': 'youtube#searchResult',\n",
       "   'etag': 'acntXXbl5_r-9_miEKAJPIH9LPo',\n",
       "   'id': {'kind': 'youtube#video', 'videoId': 'ZVbjskKzrSA'},\n",
       "   'snippet': {'publishedAt': '2024-08-05T17:05:52Z',\n",
       "    'channelId': 'UCIEIRz-KpYoEPnrNQuyHwJw',\n",
       "    'title': 'TMS 2685: Loofa Rigno',\n",
       "    'description': 'The Dipsy Chips! Hello from the MRI. Lastname is Placebo. The Soup Nazi had more people! Feet Flavored with Brian Dunaway.',\n",
       "    'thumbnails': {'default': {'url': 'https://i.ytimg.com/vi/ZVbjskKzrSA/default.jpg',\n",
       "      'width': 120,\n",
       "      'height': 90},\n",
       "     'medium': {'url': 'https://i.ytimg.com/vi/ZVbjskKzrSA/mqdefault.jpg',\n",
       "      'width': 320,\n",
       "      'height': 180},\n",
       "     'high': {'url': 'https://i.ytimg.com/vi/ZVbjskKzrSA/hqdefault.jpg',\n",
       "      'width': 480,\n",
       "      'height': 360}},\n",
       "    'channelTitle': 'Scott Johnson',\n",
       "    'liveBroadcastContent': 'none',\n",
       "    'publishTime': '2024-08-05T17:05:52Z'}},\n",
       "  {'kind': 'youtube#searchResult',\n",
       "   'etag': 'n2RpL63R3USLT3EQiB1pGIGy318',\n",
       "   'id': {'kind': 'youtube#video', 'videoId': 'l02I5DdjMwg'},\n",
       "   'snippet': {'publishedAt': '2024-08-03T07:38:22Z',\n",
       "    'channelId': 'UCIEIRz-KpYoEPnrNQuyHwJw',\n",
       "    'title': 'Time for TMS Play Date!',\n",
       "    'description': 'Lets play some games!',\n",
       "    'thumbnails': {'default': {'url': 'https://i.ytimg.com/vi/l02I5DdjMwg/default.jpg',\n",
       "      'width': 120,\n",
       "      'height': 90},\n",
       "     'medium': {'url': 'https://i.ytimg.com/vi/l02I5DdjMwg/mqdefault.jpg',\n",
       "      'width': 320,\n",
       "      'height': 180},\n",
       "     'high': {'url': 'https://i.ytimg.com/vi/l02I5DdjMwg/hqdefault.jpg',\n",
       "      'width': 480,\n",
       "      'height': 360}},\n",
       "    'channelTitle': 'Scott Johnson',\n",
       "    'liveBroadcastContent': 'none',\n",
       "    'publishTime': '2024-08-03T07:38:22Z'}},\n",
       "  {'kind': 'youtube#searchResult',\n",
       "   'etag': 'oj-W7YLxJVe4SiaaP5qbdSuaCmI',\n",
       "   'id': {'kind': 'youtube#video', 'videoId': 'cBKNUC29_A0'},\n",
       "   'snippet': {'publishedAt': '2024-08-01T21:37:56Z',\n",
       "    'channelId': 'UCIEIRz-KpYoEPnrNQuyHwJw',\n",
       "    'title': 'TMS 2684: Flipping Heck',\n",
       "    'description': \"I can't be the Karen. FDAs Most Wanted. Monster sea booger. Tyson Bones. Connections to Big Chicken. You get NO Colgate, NO ...\",\n",
       "    'thumbnails': {'default': {'url': 'https://i.ytimg.com/vi/cBKNUC29_A0/default.jpg',\n",
       "      'width': 120,\n",
       "      'height': 90},\n",
       "     'medium': {'url': 'https://i.ytimg.com/vi/cBKNUC29_A0/mqdefault.jpg',\n",
       "      'width': 320,\n",
       "      'height': 180},\n",
       "     'high': {'url': 'https://i.ytimg.com/vi/cBKNUC29_A0/hqdefault.jpg',\n",
       "      'width': 480,\n",
       "      'height': 360}},\n",
       "    'channelTitle': 'Scott Johnson',\n",
       "    'liveBroadcastContent': 'none',\n",
       "    'publishTime': '2024-08-01T21:37:56Z'}},\n",
       "  {'kind': 'youtube#searchResult',\n",
       "   'etag': 'ND7hgvZIIuak8lkNF6uDd8CzHts',\n",
       "   'id': {'kind': 'youtube#video', 'videoId': 'zJ6AfAPLJAc'},\n",
       "   'snippet': {'publishedAt': '2024-07-31T17:34:27Z',\n",
       "    'channelId': 'UCIEIRz-KpYoEPnrNQuyHwJw',\n",
       "    'title': 'TMS 2683: Tubular Meat',\n",
       "    'description': \"The Lee Majors Train Has Passed. I like being Covid FREEEEEEE! We're On Smoko. Waxing Mom's Nipples. Do You Honk?\",\n",
       "    'thumbnails': {'default': {'url': 'https://i.ytimg.com/vi/zJ6AfAPLJAc/default.jpg',\n",
       "      'width': 120,\n",
       "      'height': 90},\n",
       "     'medium': {'url': 'https://i.ytimg.com/vi/zJ6AfAPLJAc/mqdefault.jpg',\n",
       "      'width': 320,\n",
       "      'height': 180},\n",
       "     'high': {'url': 'https://i.ytimg.com/vi/zJ6AfAPLJAc/hqdefault.jpg',\n",
       "      'width': 480,\n",
       "      'height': 360}},\n",
       "    'channelTitle': 'Scott Johnson',\n",
       "    'liveBroadcastContent': 'none',\n",
       "    'publishTime': '2024-07-31T17:34:27Z'}},\n",
       "  {'kind': 'youtube#searchResult',\n",
       "   'etag': 'PB6n2wCmhWi-z0f6V-Gnh9_yHcw',\n",
       "   'id': {'kind': 'youtube#video', 'videoId': 'xOaIEghHho8'},\n",
       "   'snippet': {'publishedAt': '2024-07-30T16:50:11Z',\n",
       "    'channelId': 'UCIEIRz-KpYoEPnrNQuyHwJw',\n",
       "    'title': 'TMS 2682: Chasing Amy Pickles',\n",
       "    'description': 'Like a B movie. Except with Wasps. Say Hello to My Little Fin! Cocaine Shark do-do-do-do.Pools of Dead. 12 Points for a Plastic ...',\n",
       "    'thumbnails': {'default': {'url': 'https://i.ytimg.com/vi/xOaIEghHho8/default.jpg',\n",
       "      'width': 120,\n",
       "      'height': 90},\n",
       "     'medium': {'url': 'https://i.ytimg.com/vi/xOaIEghHho8/mqdefault.jpg',\n",
       "      'width': 320,\n",
       "      'height': 180},\n",
       "     'high': {'url': 'https://i.ytimg.com/vi/xOaIEghHho8/hqdefault.jpg',\n",
       "      'width': 480,\n",
       "      'height': 360}},\n",
       "    'channelTitle': 'Scott Johnson',\n",
       "    'liveBroadcastContent': 'none',\n",
       "    'publishTime': '2024-07-30T16:50:11Z'}}]}"
      ]
     },
     "execution_count": 84,
     "metadata": {},
     "output_type": "execute_result"
    }
   ],
   "source": [
    "response2\n"
   ]
  },
  {
   "cell_type": "code",
   "execution_count": 91,
   "metadata": {},
   "outputs": [
    {
     "data": {
      "text/plain": [
       "dict_keys(['kind', 'etag', 'nextPageToken', 'regionCode', 'pageInfo', 'items'])"
      ]
     },
     "execution_count": 91,
     "metadata": {},
     "output_type": "execute_result"
    }
   ],
   "source": [
    "response.keys()"
   ]
  },
  {
   "cell_type": "code",
   "execution_count": 89,
   "metadata": {},
   "outputs": [
    {
     "data": {
      "text/plain": [
       "'CDIQAA'"
      ]
     },
     "execution_count": 89,
     "metadata": {},
     "output_type": "execute_result"
    }
   ],
   "source": [
    "response2['nextPageToken']"
   ]
  },
  {
   "cell_type": "code",
   "execution_count": 88,
   "metadata": {},
   "outputs": [
    {
     "data": {
      "text/plain": [
       "['TMS 2728: What is Arkanoid',\n",
       " 'TMS 2727: Itchy No No',\n",
       " 'TMS 2726: Loppity Hoppers',\n",
       " 'TMS PLAYDATE for 10-25-2024',\n",
       " 'TMS 2725: Wedging Matilda',\n",
       " 'TMS 2724: Mowing Skeletons',\n",
       " 'TMS 2723: Zonal Splattage',\n",
       " 'TMS 2722: Soylent People',\n",
       " 'TMS 2721: Horse in The Attic',\n",
       " 'TMS 2720: Screw McDuck',\n",
       " 'TMS 2719: Sirius Blech',\n",
       " 'TMS 2718: Roughly Naked',\n",
       " 'TMS 2717: Sneaky Little Hole',\n",
       " 'TMS 2716: Wrong Swanson',\n",
       " 'TMS 2715: Noodle Tax',\n",
       " 'TMS 2714: Skanky Pigeons',\n",
       " 'TMS 2713: Unsurprisingly Heartless',\n",
       " 'TMS 2712: Dave&#39;s Cable',\n",
       " 'TMS 2711: Crumply Little Mess',\n",
       " 'TMS PLAYDATE!',\n",
       " 'TMS 2710: Frisbee tots',\n",
       " 'TMS 2709: Bammit',\n",
       " 'TMS 2708: A Comfortable Bosom',\n",
       " 'TMS 2707: Pizza Pi',\n",
       " 'TMS 2706: Covidiocy']"
      ]
     },
     "execution_count": 88,
     "metadata": {},
     "output_type": "execute_result"
    }
   ],
   "source": [
    "[i['snippet']['title'] for i in response['items']]"
   ]
  },
  {
   "cell_type": "code",
   "execution_count": 95,
   "metadata": {},
   "outputs": [
    {
     "data": {
      "text/plain": [
       "'https://i.ytimg.com/vi/LdQy6ZWobU4/hqdefault.jpg'"
      ]
     },
     "execution_count": 95,
     "metadata": {},
     "output_type": "execute_result"
    }
   ],
   "source": [
    "response['items'][0]['snippet']['thumbnails']['high']['url']"
   ]
  },
  {
   "cell_type": "code",
   "execution_count": 15,
   "metadata": {},
   "outputs": [],
   "source": [
    "with open('../token.json','w') as token:\n",
    "    token.write(credentials.to_json())"
   ]
  },
  {
   "cell_type": "code",
   "execution_count": null,
   "metadata": {},
   "outputs": [],
   "source": [
    "os.getcwd()"
   ]
  },
  {
   "cell_type": "code",
   "execution_count": 6,
   "metadata": {},
   "outputs": [],
   "source": [
    "confirmation_message = \"[Bot] I fucking hate this.\""
   ]
  },
  {
   "cell_type": "code",
   "execution_count": null,
   "metadata": {},
   "outputs": [],
   "source": [
    "!gcloud auth list"
   ]
  },
  {
   "cell_type": "code",
   "execution_count": 12,
   "metadata": {},
   "outputs": [],
   "source": [
    "request = youtube.liveChatMessages().insert(part=\"snippet\",body={\"snippet\": {\"liveChatId\": livechatid,\n",
    "        \"type\": \"textMessageEvent\",\n",
    "        \"textMessageDetails\": {\n",
    "            \"messageText\": confirmation_message}}})\n",
    "response = request.execute()"
   ]
  },
  {
   "cell_type": "code",
   "execution_count": 9,
   "metadata": {},
   "outputs": [
    {
     "name": "stdout",
     "output_type": "stream",
     "text": [
      "Original Token Used.\n",
      "No live chat detected, likely because the chat has ended.\n"
     ]
    }
   ],
   "source": [
    "try:\n",
    "    send_chat_message('Cg0KC3Rhb0lYcU9Udi1jKicKGFVDSUVJUnotS3BZb0VQbnJOUXV5SHdKdxILdGFvSVhxT1R2LWM','Dicks')\n",
    "except googleapiclient.errors.HttpError:\n",
    "    print('No live chat detected, likely because the chat has ended.')"
   ]
  },
  {
   "cell_type": "code",
   "execution_count": null,
   "metadata": {},
   "outputs": [],
   "source": [
    "while True:\n",
    "    authors,titles = title_search(read_chat(livechatid)) #Poll API for all chat messages, regardless of they've been polled already or not. title_search() already filters for '!s' chat trigger and cleans as needed\n",
    "    #Check extracted titles versus previously submitted ones, submit if new\n",
    "    for author,title in zip(authors,titles):\n",
    "        if title not in submitted_titles: #Check extracted titles versus previously submitted ones, submit if new\n",
    "            author_index.append(author)\n",
    "            submitted_titles.append(title)\n",
    "            print(f'{author}: {title}') #Add new title to list and add author to another list to maintain the order. Print for debugging and monitoring purposes.\n",
    "            author_html,title_html = html_ify(author),html_ify(title) #Prepare link for submission then submit via Requests module\n",
    "            submission_link = f'http://www.showbot.tv/s/add.php?title={title_html}&user={author_html}&channel={showbot_channel}&key={token}'\n",
    "            requests.get(submission_link)\n",
    "            #At this point the title has been submitted. This is one complete function and API call. Confirmation via the .insert() method to send a message is a separate \n",
    "            #function incurring higher quota useage.\n",
    "            credentials = build_credentials(client_secrets_file,scopes) #Builds OAuth2 credentials object. Uses existing files or makes new one if not detected. This links the function to the account that follows the URI.\n",
    "            youtube = build_yt_obj(googleapiclient.discovery,credentials) #Common step in calling the API. Always have to build an object on which to call methods.\n",
    "            response = send_chat_message(livechatid,author) #The API response in JSON format. Not technically needed but saved in case.\n",
    "            print(f'Title successfully submitted and confirmed: {author}') #Generic success message only for the console for debugging and monitoring purposes.\n",
    "    time.sleep(5)"
   ]
  },
  {
   "cell_type": "code",
   "execution_count": 11,
   "metadata": {},
   "outputs": [],
   "source": [
    "author_index,submitted_titles = build_submission_history(showbot_channel)"
   ]
  },
  {
   "cell_type": "code",
   "execution_count": null,
   "metadata": {},
   "outputs": [],
   "source": [
    "while True:\n",
    "    authors,titles = title_search(read_chat(livechatid)) #Poll API for all chat messages, regardless of they've been polled already or not. title_search() already filters for '!s' chat trigger and cleans as needed\n",
    "    #Check extracted titles versus previously submitted ones, submit if new\n",
    "    for author,title in zip(authors,titles):\n",
    "        if title not in submitted_titles: #Check extracted titles versus previously submitted ones, submit if new\n",
    "            author_index.append(author)\n",
    "            submitted_titles.append(title)\n",
    "            print(f'{author}: {title}') #Add new title to list and add author to another list to maintain the order. Print for debugging and monitoring purposes.\n",
    "            author_html,title_html = html_ify(author),html_ify(title) #Prepare link for submission then submit via Requests module\n",
    "            submission_link = f'http://www.showbot.tv/s/add.php?title={title_html}&user={author_html}&channel={showbot_channel}&key={token}'\n",
    "            try:\n",
    "                requests.get(submission_link)\n",
    "            except TimeoutError:\n",
    "                print('Timeout error')\n",
    "            #At this point the title has been submitted. This is one complete function and API call. Confirmation via the .insert() method to send a message is a separate \n",
    "            #function incurring higher quota useage.\n",
    "            credentials = Credentials.from_authorized_user_file(\"../working_submit_token_Talia_do_not_delete.json\", scopes)\n",
    "            youtube = build_yt_obj(googleapiclient.discovery,credentials,api_service_name, api_version) #Common step in calling the API. Always have to build an object on which to call methods.\n",
    "            try:\n",
    "                response = send_chat_message(livechatid,author) #The API response in JSON format. Not technically needed but saved in case.\n",
    "                print(f'Title successfully submitted and confirmed: {author}') #Generic success message only for the console for debugging and monitoring purposes.\n",
    "            except googleapiclient.errors.HttpError: #For some reason the script can get a 403 response code error when attempting to submit a confirmation response. This block keeps the script from halting if that occurs.\n",
    "                print(f'HTTP Error: [{author}: {title}] failed to submit.')# Trying again in 3 seconds.') #This is an experimental approach to handling the 403 error by attempting to resubmit the response asynchronously.\n",
    "                # asyncio.sleep(3)\n",
    "                # try:\n",
    "                #     response = asyncio.send_async_chat_message(livechatid,author)\n",
    "                # except googleapiclient.errors.HttpError:\n",
    "                #     print(f'Submission of [{author}: {title}] failed.')\n",
    "                # print(traceback.format_exc())\n",
    "    time.sleep(5) "
   ]
  },
  {
   "cell_type": "code",
   "execution_count": null,
   "metadata": {},
   "outputs": [],
   "source": [
    "credentials = build_credentials(client_secrets_file,scopes) #Builds OAuth2 credentials object. Uses existing files or makes new one if not detected. This links the function to the account that follows the URI.\n",
    "youtube = build_yt_obj(credentials) #Common step in calling the API. Always have to build an object on which to call methods.\n"
   ]
  },
  {
   "cell_type": "code",
   "execution_count": null,
   "metadata": {},
   "outputs": [],
   "source": [
    "request = youtube.liveChatMessages().insert(part=\"snippet\",body={\"snippet\": {\"liveChatId\": livechatid,\n",
    "        \"type\": \"textMessageEvent\",\n",
    "        \"textMessageDetails\": {\n",
    "        \"messageText\": \"Vote on show titles at https://tms.showbot.tv/\"}}})"
   ]
  },
  {
   "cell_type": "code",
   "execution_count": null,
   "metadata": {},
   "outputs": [],
   "source": [
    "message_raw = ['TMS is a collaborative effort! ']\n",
    "i = 0\n",
    "for patreon in patreon_links:\n",
    "    i += 1\n",
    "    link = patreon_links[patreon]\n",
    "    if patreon == 'TMS':\n",
    "        message = f'Support TMS directly at {link}, '\n",
    "    elif patreon == 'Frogpants':\n",
    "        message = f'or support the whole network at: {link}. Support individuals: '\n",
    "    elif i == len(patreon_links):\n",
    "        message = f' and {patreon} at {link}.'\n",
    "    else:\n",
    "        message = f' {patreon} at {link},'\n",
    "    message_raw.append(message)"
   ]
  },
  {
   "cell_type": "code",
   "execution_count": null,
   "metadata": {},
   "outputs": [],
   "source": [
    "patreon_links = {\n",
    "    'TMS':'https://www.patreon.com/tms',\n",
    "    'Frogpants':'https://www.patreon.com/frogpants',\n",
    "    'Brian':'https://www.patreon.com/coverville',\n",
    "    'Biocow':'https://www.patreon.com/biocow',\n",
    "    'Talia':'https://www.patreon.com/TaliaJames'\n",
    "}"
   ]
  }
 ],
 "metadata": {
  "kernelspec": {
   "display_name": ".venv",
   "language": "python",
   "name": "python3"
  },
  "language_info": {
   "codemirror_mode": {
    "name": "ipython",
    "version": 3
   },
   "file_extension": ".py",
   "mimetype": "text/x-python",
   "name": "python",
   "nbconvert_exporter": "python",
   "pygments_lexer": "ipython3",
   "version": "3.12.3"
  }
 },
 "nbformat": 4,
 "nbformat_minor": 2
}
