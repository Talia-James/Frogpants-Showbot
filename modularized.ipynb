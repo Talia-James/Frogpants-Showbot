{
 "cells": [
  {
   "cell_type": "markdown",
   "metadata": {},
   "source": [
    "This is a document I use to separate out functions of the main script in order to troubleshoot or quickly bypass some steps. I often use this to avoid spamming chat or API requests when I want to test changes in a script without using quota credits or some other resource."
   ]
  },
  {
   "cell_type": "code",
   "execution_count": 1,
   "metadata": {},
   "outputs": [],
   "source": [
    "from funcs import *\n",
    "import requests,time\n",
    "showbot_channel,token = 'Frogpants','Nhrj6amcz4AqiSP6AVv5YhhQX8OhJ6wO'"
   ]
  },
  {
   "cell_type": "code",
   "execution_count": 2,
   "metadata": {},
   "outputs": [
    {
     "name": "stdout",
     "output_type": "stream",
     "text": [
      "Live stream detected.\n",
      "Live stream id: uTXnAfFGo6U\n"
     ]
    }
   ],
   "source": [
    "streamid = find_stream_id('@ScottJohnson')\n",
    "if streamid:\n",
    "    print(f'Live stream detected.\\nLive stream id: {streamid}')\n",
    "else:\n",
    "    print('No live stream found.')"
   ]
  },
  {
   "cell_type": "code",
   "execution_count": 3,
   "metadata": {},
   "outputs": [],
   "source": [
    "streamid = 'TqYpYY4ooSY'"
   ]
  },
  {
   "cell_type": "markdown",
   "metadata": {},
   "source": [
    "For testing"
   ]
  },
  {
   "cell_type": "code",
   "execution_count": 4,
   "metadata": {},
   "outputs": [],
   "source": [
    "authors,messages = parse_chat(read_chat(find_chat_id(streamid)))\n",
    "for author,message in zip(authors,messages):\n",
    "    print(f'{author}: {message}')"
   ]
  },
  {
   "cell_type": "markdown",
   "metadata": {},
   "source": [
    "For titles"
   ]
  },
  {
   "cell_type": "code",
   "execution_count": 17,
   "metadata": {},
   "outputs": [],
   "source": [
    "author_index,titles = title_search(read_chat(find_chat_id(streamid)))\n",
    "# for author,title in zip(authors,titles):\n",
    "#     print(f'{author}: {title}')"
   ]
  },
  {
   "cell_type": "code",
   "execution_count": 18,
   "metadata": {},
   "outputs": [],
   "source": [
    "authors_html,titles_html = [html_ify(auth) for auth in author_index],[html_ify(title) for title in titles]\n",
    "for author_html,title_html in zip(authors_html,titles_html):\n",
    "    print(f'{author_html}: {title_html}')\n",
    "    "
   ]
  },
  {
   "cell_type": "code",
   "execution_count": 4,
   "metadata": {},
   "outputs": [],
   "source": [
    "livechatid = find_chat_id(streamid)"
   ]
  },
  {
   "cell_type": "code",
   "execution_count": 6,
   "metadata": {},
   "outputs": [],
   "source": [
    "livechatid = 'Cg0KC3VUWG5BZkZHbzZVKicKGFVDSUVJUnotS3BZb0VQbnJOUXV5SHdKdxILdVRYbkFmRkdvNlU'"
   ]
  },
  {
   "cell_type": "code",
   "execution_count": 7,
   "metadata": {},
   "outputs": [],
   "source": [
    "author_index,submitted_titles = build_submission_history(showbot_channel)"
   ]
  },
  {
   "cell_type": "code",
   "execution_count": 21,
   "metadata": {},
   "outputs": [],
   "source": [
    "for author,title in zip(authors,titles):\n",
    "    print(f'{author}: {title}')"
   ]
  },
  {
   "cell_type": "code",
   "execution_count": null,
   "metadata": {},
   "outputs": [],
   "source": [
    "while True:\n",
    "    authors,titles = title_search(read_chat(livechatid)) #Poll API for all chat messages, regardless of they've been polled already or not. title_search() already filters for '!s' chat trigger and cleans as needed\n",
    "    #Check extracted titles versus previously submitted ones, submit if new\n",
    "    for author,title in zip(authors,titles):\n",
    "        if title not in submitted_titles: #Check extracted titles versus previously submitted ones, submit if new\n",
    "            author_index.append(author)\n",
    "            submitted_titles.append(title)\n",
    "            print(f'{author}: {title}') #Add new title to list and add author to another list to maintain the order. Print for debugging and monitoring purposes.\n",
    "            author_html,title_html = html_ify(author),html_ify(title) #Prepare link for submission then submit via Requests module\n",
    "            submission_link = f'http://www.showbot.tv/s/add.php?title={title_html}&user={author_html}&channel={showbot_channel}&key={token}'\n",
    "            requests.get(submission_link)\n",
    "            #At this point the title has been submitted. This is one complete function and API call. Confirmation via the .insert() method to send a message is a separate \n",
    "            #function incurring higher quota useage.\n",
    "            credentials = build_credentials(client_secrets_file,scopes) #Builds OAuth2 credentials object. Uses existing files or makes new one if not detected. This links the function to the account that follows the URI.\n",
    "            youtube = build_yt_obj(googleapiclient.discovery,credentials) #Common step in calling the API. Always have to build an object on which to call methods.\n",
    "            response = send_chat_message(livechatid,author) #The API response in JSON format. Not technically needed but saved in case.\n",
    "            print(f'Title successfully submitted and confirmed: {author}') #Generic success message only for the console for debugging and monitoring purposes.\n",
    "    time.sleep(5)"
   ]
  }
 ],
 "metadata": {
  "kernelspec": {
   "display_name": ".venv",
   "language": "python",
   "name": "python3"
  },
  "language_info": {
   "codemirror_mode": {
    "name": "ipython",
    "version": 3
   },
   "file_extension": ".py",
   "mimetype": "text/x-python",
   "name": "python",
   "nbconvert_exporter": "python",
   "pygments_lexer": "ipython3",
   "version": "3.12.3"
  }
 },
 "nbformat": 4,
 "nbformat_minor": 2
}
