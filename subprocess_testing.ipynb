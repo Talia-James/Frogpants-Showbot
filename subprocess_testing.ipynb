{
 "cells": [
  {
   "cell_type": "code",
   "execution_count": 7,
   "metadata": {},
   "outputs": [],
   "source": [
    "import subprocess\n",
    "import sys"
   ]
  },
  {
   "cell_type": "code",
   "execution_count": null,
   "metadata": {},
   "outputs": [],
   "source": [
    "command = ['python','test.py']\n",
    "output = subprocess.run(command, check=True, capture_output=True, text=True)\n",
    "if output.stdout is not None and output.stdout != \"\":\n",
    "    print(output.stdout)\n",
    "if output.stderr is not None and output.stderr != \"\":\n",
    "    print(output.stderr)"
   ]
  },
  {
   "cell_type": "code",
   "execution_count": 4,
   "metadata": {},
   "outputs": [],
   "source": [
    "cmd = ['python','test.py']\n",
    "proc = subprocess.Popen(cmd, stdin=subprocess.PIPE)\n",
    "proc.stdout"
   ]
  },
  {
   "cell_type": "code",
   "execution_count": 6,
   "metadata": {},
   "outputs": [],
   "source": [
    "proc.stdout"
   ]
  },
  {
   "cell_type": "code",
   "execution_count": 9,
   "metadata": {},
   "outputs": [
    {
     "data": {
      "text/plain": [
       "<_io.BufferedReader name=5>"
      ]
     },
     "execution_count": 9,
     "metadata": {},
     "output_type": "execute_result"
    }
   ],
   "source": [
    "your_command = ['python','test.py']\n",
    "process = subprocess.Popen(\n",
    "    your_command, stdout=subprocess.PIPE, stderr=subprocess.STDOUT\n",
    ")\n",
    "process.stdout"
   ]
  },
  {
   "cell_type": "code",
   "execution_count": 12,
   "metadata": {},
   "outputs": [
    {
     "name": "stdout",
     "output_type": "stream",
     "text": [
      "b'poo poo\\r\\n'\n",
      "b'pee pee\\r\\n'\n",
      "b'poo poo\\r\\n'\n",
      "b'pee pee\\r\\n'\n",
      "b'poo poo\\r\\n'\n",
      "b'pee pee\\r\\n'\n",
      "b'poo poo\\r\\n'\n",
      "b'pee pee\\r\\n'\n",
      "b'poo poo\\r\\n'\n",
      "b'pee pee\\r\\n'\n",
      "b'poo poo\\r\\n'\n",
      "b'pee pee\\r\\n'\n",
      "b'poo poo\\r\\n'\n",
      "b'pee pee\\r\\n'\n",
      "b'poo poo\\r\\n'\n",
      "b'pee pee\\r\\n'\n",
      "b'poo poo\\r\\n'\n",
      "b'pee pee\\r\\n'\n",
      "b'poo poo\\r\\n'\n",
      "b'pee pee\\r\\n'\n",
      "b'poo poo\\r\\n'\n",
      "b'pee pee\\r\\n'\n",
      "b'poo poo\\r\\n'\n",
      "b'pee pee\\r\\n'\n",
      "b'poo poo\\r\\n'\n",
      "b'pee pee\\r\\n'\n",
      "b'poo poo\\r\\n'\n",
      "b'pee pee\\r\\n'\n",
      "b'poo poo\\r\\n'\n",
      "b'pee pee\\r\\n'\n",
      "b'poo poo\\r\\n'\n",
      "b'pee pee\\r\\n'\n",
      "b'poo poo\\r\\n'\n",
      "b'pee pee\\r\\n'\n"
     ]
    },
    {
     "ename": "KeyboardInterrupt",
     "evalue": "",
     "output_type": "error",
     "traceback": [
      "\u001b[1;31m---------------------------------------------------------------------------\u001b[0m",
      "\u001b[1;31mKeyboardInterrupt\u001b[0m                         Traceback (most recent call last)",
      "Cell \u001b[1;32mIn[12], line 2\u001b[0m\n\u001b[0;32m      1\u001b[0m \u001b[38;5;28;01mfor\u001b[39;00m line \u001b[38;5;129;01min\u001b[39;00m process\u001b[38;5;241m.\u001b[39mstdout:\n\u001b[1;32m----> 2\u001b[0m     \u001b[38;5;28;43mprint\u001b[39;49m\u001b[43m(\u001b[49m\u001b[43mline\u001b[49m\u001b[43m)\u001b[49m\n",
      "\u001b[1;31mKeyboardInterrupt\u001b[0m: "
     ]
    }
   ],
   "source": [
    "for line in process.stdout:\n",
    "    print(line)"
   ]
  }
 ],
 "metadata": {
  "kernelspec": {
   "display_name": ".venv",
   "language": "python",
   "name": "python3"
  },
  "language_info": {
   "codemirror_mode": {
    "name": "ipython",
    "version": 3
   },
   "file_extension": ".py",
   "mimetype": "text/x-python",
   "name": "python",
   "nbconvert_exporter": "python",
   "pygments_lexer": "ipython3",
   "version": "3.12.3"
  }
 },
 "nbformat": 4,
 "nbformat_minor": 2
}
